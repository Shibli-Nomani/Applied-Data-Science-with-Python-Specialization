{
 "cells": [
  {
   "cell_type": "markdown",
   "metadata": {},
   "source": [
    "# Assignment 4\n",
    "\n",
    "Before working on this assignment please read these instructions fully. In the submission area, you will notice that you can click the link to **Preview the Grading** for each step of the assignment. This is the criteria that will be used for peer grading. Please familiarize yourself with the criteria before beginning the assignment.\n",
    "\n",
    "This assignment requires that you to find **at least** two datasets on the web which are related, and that you visualize these datasets to answer a question with the broad topic of **weather phenomena** (see below) for the region of **Dhaka, Dhaka, Bangladesh**, or **Bangladesh** more broadly.\n",
    "\n",
    "You can merge these datasets with data from different regions if you like! For instance, you might want to compare **Dhaka, Dhaka, Bangladesh** to Ann Arbor, USA. In that case at least one source file must be about **Dhaka, Dhaka, Bangladesh**.\n",
    "\n",
    "You are welcome to choose datasets at your discretion, but keep in mind **they will be shared with your peers**, so choose appropriate datasets. Sensitive, confidential, illicit, and proprietary materials are not good choices for datasets for this assignment. You are welcome to upload datasets of your own as well, and link to them using a third party repository such as github, bitbucket, pastebin, etc. Please be aware of the Coursera terms of service with respect to intellectual property.\n",
    "\n",
    "Also, you are welcome to preserve data in its original language, but for the purposes of grading you should provide english translations. You are welcome to provide multiple visuals in different languages if you would like!\n",
    "\n",
    "As this assignment is for the whole course, you must incorporate principles discussed in the first week, such as having as high data-ink ratio (Tufte) and aligning with Cairo’s principles of truth, beauty, function, and insight.\n",
    "\n",
    "Here are the assignment instructions:\n",
    "\n",
    " * State the region and the domain category that your data sets are about (e.g., **Dhaka, Dhaka, Bangladesh** and **weather phenomena**).\n",
    " * You must state a question about the domain category and region that you identified as being interesting.\n",
    " * You must provide at least two links to available datasets. These could be links to files such as CSV or Excel files, or links to websites which might have data in tabular form, such as Wikipedia pages.\n",
    " * You must upload an image which addresses the research question you stated. In addition to addressing the question, this visual should follow Cairo's principles of truthfulness, functionality, beauty, and insightfulness.\n",
    " * You must contribute a short (1-2 paragraph) written justification of how your visualization addresses your stated research question.\n",
    "\n",
    "What do we mean by **weather phenomena**?  For this category you might want to consider seasonal changes, natural disasters, or historical trends.\n",
    "\n",
    "## Tips\n",
    "* Wikipedia is an excellent source of data, and I strongly encourage you to explore it for new data sources.\n",
    "* Many governments run open data initiatives at the city, region, and country levels, and these are wonderful resources for localized data sources.\n",
    "* Several international agencies, such as the [United Nations](http://data.un.org/), the [World Bank](http://data.worldbank.org/), the [Global Open Data Index](http://index.okfn.org/place/) are other great places to look for data.\n",
    "* This assignment requires you to convert and clean datafiles. Check out the discussion forums for tips on how to do this from various sources, and share your successes with your fellow students!\n",
    "\n",
    "## Example\n",
    "Looking for an example? Here's what our course assistant put together for the **Ann Arbor, MI, USA** area using **sports and athletics** as the topic. [Example Solution File](./readonly/Assignment4_example.pdf)"
   ]
  },
  {
   "cell_type": "code",
   "execution_count": 16,
   "metadata": {
    "collapsed": true
   },
   "outputs": [],
   "source": [
    "import pandas as pd\n",
    "import numpy as np\n",
    "import matplotlib.pyplot as plt\n",
    "%matplotlib notebook\n",
    "import seaborn as sns\n",
    "%matplotlib inline\n",
    "import scipy as sp"
   ]
  },
  {
   "cell_type": "markdown",
   "metadata": {},
   "source": [
    "**Dataset Details**\n",
    "\n",
    "Datasets have been extracted from https://climateknowledgeportal.worldbank.org/download-data\n",
    "We are working on maximum temperature in a year for both Bangladesh and India from 1901 to 2021. And we will compare it for visualization. Therefore we can check how the temperature changes over time past 121 years"
   ]
  },
  {
   "cell_type": "markdown",
   "metadata": {},
   "source": [
    "# Maximum temp of Bangladesh"
   ]
  },
  {
   "cell_type": "code",
   "execution_count": 58,
   "metadata": {
    "collapsed": false
   },
   "outputs": [
    {
     "data": {
      "text/html": [
       "<div>\n",
       "<table border=\"1\" class=\"dataframe\">\n",
       "  <thead>\n",
       "    <tr style=\"text-align: right;\">\n",
       "      <th></th>\n",
       "      <th>Jan</th>\n",
       "      <th>Feb</th>\n",
       "      <th>Mar</th>\n",
       "      <th>Apr</th>\n",
       "      <th>May</th>\n",
       "      <th>Jun</th>\n",
       "      <th>Jul</th>\n",
       "      <th>Aug</th>\n",
       "      <th>Sep</th>\n",
       "      <th>Oct</th>\n",
       "      <th>Nov</th>\n",
       "      <th>Dec</th>\n",
       "    </tr>\n",
       "  </thead>\n",
       "  <tbody>\n",
       "    <tr>\n",
       "      <th>1901</th>\n",
       "      <td>23.96</td>\n",
       "      <td>26.34</td>\n",
       "      <td>31.91</td>\n",
       "      <td>34.35</td>\n",
       "      <td>33.14</td>\n",
       "      <td>32.59</td>\n",
       "      <td>31.54</td>\n",
       "      <td>30.91</td>\n",
       "      <td>30.89</td>\n",
       "      <td>31.22</td>\n",
       "      <td>27.23</td>\n",
       "      <td>24.92</td>\n",
       "    </tr>\n",
       "    <tr>\n",
       "      <th>1902</th>\n",
       "      <td>25.55</td>\n",
       "      <td>27.41</td>\n",
       "      <td>32.30</td>\n",
       "      <td>32.27</td>\n",
       "      <td>32.15</td>\n",
       "      <td>32.07</td>\n",
       "      <td>30.60</td>\n",
       "      <td>31.19</td>\n",
       "      <td>30.89</td>\n",
       "      <td>30.29</td>\n",
       "      <td>28.31</td>\n",
       "      <td>24.97</td>\n",
       "    </tr>\n",
       "    <tr>\n",
       "      <th>1903</th>\n",
       "      <td>24.58</td>\n",
       "      <td>26.35</td>\n",
       "      <td>30.83</td>\n",
       "      <td>33.96</td>\n",
       "      <td>33.59</td>\n",
       "      <td>31.87</td>\n",
       "      <td>32.03</td>\n",
       "      <td>30.55</td>\n",
       "      <td>30.99</td>\n",
       "      <td>30.92</td>\n",
       "      <td>27.37</td>\n",
       "      <td>24.98</td>\n",
       "    </tr>\n",
       "  </tbody>\n",
       "</table>\n",
       "</div>"
      ],
      "text/plain": [
       "        Jan    Feb    Mar    Apr    May    Jun    Jul    Aug    Sep    Oct  \\\n",
       "1901  23.96  26.34  31.91  34.35  33.14  32.59  31.54  30.91  30.89  31.22   \n",
       "1902  25.55  27.41  32.30  32.27  32.15  32.07  30.60  31.19  30.89  30.29   \n",
       "1903  24.58  26.35  30.83  33.96  33.59  31.87  32.03  30.55  30.99  30.92   \n",
       "\n",
       "        Nov    Dec  \n",
       "1901  27.23  24.92  \n",
       "1902  28.31  24.97  \n",
       "1903  27.37  24.98  "
      ]
     },
     "execution_count": 58,
     "metadata": {},
     "output_type": "execute_result"
    }
   ],
   "source": [
    "df_bgd = pd.read_csv(\"assignment4_weather_report_1901_2021/tasmax_timeseries_monthly_cru_1901-2021_BGD.csv\", \n",
    "                     skiprows=2, index_col=0)\n",
    "#df_bgd.rename(columns={'Unnamed: 0': 'years'}, inplace =True)\n",
    "df_bgd.head(3)"
   ]
  },
  {
   "cell_type": "code",
   "execution_count": 59,
   "metadata": {
    "collapsed": false
   },
   "outputs": [
    {
     "data": {
      "text/html": [
       "<div>\n",
       "<table border=\"1\" class=\"dataframe\">\n",
       "  <thead>\n",
       "    <tr style=\"text-align: right;\">\n",
       "      <th></th>\n",
       "      <th>Jan</th>\n",
       "      <th>Feb</th>\n",
       "      <th>Mar</th>\n",
       "      <th>Apr</th>\n",
       "      <th>May</th>\n",
       "      <th>Jun</th>\n",
       "      <th>Jul</th>\n",
       "      <th>Aug</th>\n",
       "      <th>Sep</th>\n",
       "      <th>Oct</th>\n",
       "      <th>Nov</th>\n",
       "      <th>Dec</th>\n",
       "      <th>tmax_bangladesh</th>\n",
       "    </tr>\n",
       "  </thead>\n",
       "  <tbody>\n",
       "    <tr>\n",
       "      <th>1901</th>\n",
       "      <td>23.96</td>\n",
       "      <td>26.34</td>\n",
       "      <td>31.91</td>\n",
       "      <td>34.35</td>\n",
       "      <td>33.14</td>\n",
       "      <td>32.59</td>\n",
       "      <td>31.54</td>\n",
       "      <td>30.91</td>\n",
       "      <td>30.89</td>\n",
       "      <td>31.22</td>\n",
       "      <td>27.23</td>\n",
       "      <td>24.92</td>\n",
       "      <td>34.35</td>\n",
       "    </tr>\n",
       "    <tr>\n",
       "      <th>1902</th>\n",
       "      <td>25.55</td>\n",
       "      <td>27.41</td>\n",
       "      <td>32.30</td>\n",
       "      <td>32.27</td>\n",
       "      <td>32.15</td>\n",
       "      <td>32.07</td>\n",
       "      <td>30.60</td>\n",
       "      <td>31.19</td>\n",
       "      <td>30.89</td>\n",
       "      <td>30.29</td>\n",
       "      <td>28.31</td>\n",
       "      <td>24.97</td>\n",
       "      <td>32.30</td>\n",
       "    </tr>\n",
       "    <tr>\n",
       "      <th>1903</th>\n",
       "      <td>24.58</td>\n",
       "      <td>26.35</td>\n",
       "      <td>30.83</td>\n",
       "      <td>33.96</td>\n",
       "      <td>33.59</td>\n",
       "      <td>31.87</td>\n",
       "      <td>32.03</td>\n",
       "      <td>30.55</td>\n",
       "      <td>30.99</td>\n",
       "      <td>30.92</td>\n",
       "      <td>27.37</td>\n",
       "      <td>24.98</td>\n",
       "      <td>33.96</td>\n",
       "    </tr>\n",
       "    <tr>\n",
       "      <th>1904</th>\n",
       "      <td>25.04</td>\n",
       "      <td>27.39</td>\n",
       "      <td>31.91</td>\n",
       "      <td>32.62</td>\n",
       "      <td>32.11</td>\n",
       "      <td>31.26</td>\n",
       "      <td>30.52</td>\n",
       "      <td>30.94</td>\n",
       "      <td>31.60</td>\n",
       "      <td>31.00</td>\n",
       "      <td>27.55</td>\n",
       "      <td>25.09</td>\n",
       "      <td>32.62</td>\n",
       "    </tr>\n",
       "    <tr>\n",
       "      <th>1905</th>\n",
       "      <td>23.77</td>\n",
       "      <td>24.97</td>\n",
       "      <td>29.35</td>\n",
       "      <td>31.66</td>\n",
       "      <td>32.05</td>\n",
       "      <td>33.27</td>\n",
       "      <td>30.95</td>\n",
       "      <td>30.11</td>\n",
       "      <td>31.06</td>\n",
       "      <td>30.42</td>\n",
       "      <td>28.45</td>\n",
       "      <td>24.65</td>\n",
       "      <td>33.27</td>\n",
       "    </tr>\n",
       "  </tbody>\n",
       "</table>\n",
       "</div>"
      ],
      "text/plain": [
       "        Jan    Feb    Mar    Apr    May    Jun    Jul    Aug    Sep    Oct  \\\n",
       "1901  23.96  26.34  31.91  34.35  33.14  32.59  31.54  30.91  30.89  31.22   \n",
       "1902  25.55  27.41  32.30  32.27  32.15  32.07  30.60  31.19  30.89  30.29   \n",
       "1903  24.58  26.35  30.83  33.96  33.59  31.87  32.03  30.55  30.99  30.92   \n",
       "1904  25.04  27.39  31.91  32.62  32.11  31.26  30.52  30.94  31.60  31.00   \n",
       "1905  23.77  24.97  29.35  31.66  32.05  33.27  30.95  30.11  31.06  30.42   \n",
       "\n",
       "        Nov    Dec  tmax_bangladesh  \n",
       "1901  27.23  24.92            34.35  \n",
       "1902  28.31  24.97            32.30  \n",
       "1903  27.37  24.98            33.96  \n",
       "1904  27.55  25.09            32.62  \n",
       "1905  28.45  24.65            33.27  "
      ]
     },
     "execution_count": 59,
     "metadata": {},
     "output_type": "execute_result"
    }
   ],
   "source": [
    "df_bgd['tmax_bangladesh'] = df_bgd.max(axis=1)\n",
    "df_bgd.head()"
   ]
  },
  {
   "cell_type": "markdown",
   "metadata": {},
   "source": [
    "# Maximum temp of India"
   ]
  },
  {
   "cell_type": "code",
   "execution_count": 60,
   "metadata": {
    "collapsed": false
   },
   "outputs": [
    {
     "data": {
      "text/html": [
       "<div>\n",
       "<table border=\"1\" class=\"dataframe\">\n",
       "  <thead>\n",
       "    <tr style=\"text-align: right;\">\n",
       "      <th></th>\n",
       "      <th>Jan</th>\n",
       "      <th>Feb</th>\n",
       "      <th>Mar</th>\n",
       "      <th>Apr</th>\n",
       "      <th>May</th>\n",
       "      <th>Jun</th>\n",
       "      <th>Jul</th>\n",
       "      <th>Aug</th>\n",
       "      <th>Sep</th>\n",
       "      <th>Oct</th>\n",
       "      <th>Nov</th>\n",
       "      <th>Dec</th>\n",
       "    </tr>\n",
       "  </thead>\n",
       "  <tbody>\n",
       "    <tr>\n",
       "      <th>1901</th>\n",
       "      <td>23.64</td>\n",
       "      <td>25.67</td>\n",
       "      <td>31.19</td>\n",
       "      <td>34.84</td>\n",
       "      <td>36.59</td>\n",
       "      <td>35.52</td>\n",
       "      <td>31.61</td>\n",
       "      <td>30.00</td>\n",
       "      <td>30.91</td>\n",
       "      <td>31.28</td>\n",
       "      <td>27.57</td>\n",
       "      <td>24.78</td>\n",
       "    </tr>\n",
       "    <tr>\n",
       "      <th>1902</th>\n",
       "      <td>25.20</td>\n",
       "      <td>27.05</td>\n",
       "      <td>32.45</td>\n",
       "      <td>35.20</td>\n",
       "      <td>37.01</td>\n",
       "      <td>35.17</td>\n",
       "      <td>31.39</td>\n",
       "      <td>30.91</td>\n",
       "      <td>30.49</td>\n",
       "      <td>30.52</td>\n",
       "      <td>27.12</td>\n",
       "      <td>24.29</td>\n",
       "    </tr>\n",
       "    <tr>\n",
       "      <th>1903</th>\n",
       "      <td>24.35</td>\n",
       "      <td>25.91</td>\n",
       "      <td>30.24</td>\n",
       "      <td>34.45</td>\n",
       "      <td>36.22</td>\n",
       "      <td>35.47</td>\n",
       "      <td>31.80</td>\n",
       "      <td>30.12</td>\n",
       "      <td>30.73</td>\n",
       "      <td>30.27</td>\n",
       "      <td>26.46</td>\n",
       "      <td>23.89</td>\n",
       "    </tr>\n",
       "  </tbody>\n",
       "</table>\n",
       "</div>"
      ],
      "text/plain": [
       "        Jan    Feb    Mar    Apr    May    Jun    Jul    Aug    Sep    Oct  \\\n",
       "1901  23.64  25.67  31.19  34.84  36.59  35.52  31.61  30.00  30.91  31.28   \n",
       "1902  25.20  27.05  32.45  35.20  37.01  35.17  31.39  30.91  30.49  30.52   \n",
       "1903  24.35  25.91  30.24  34.45  36.22  35.47  31.80  30.12  30.73  30.27   \n",
       "\n",
       "        Nov    Dec  \n",
       "1901  27.57  24.78  \n",
       "1902  27.12  24.29  \n",
       "1903  26.46  23.89  "
      ]
     },
     "execution_count": 60,
     "metadata": {},
     "output_type": "execute_result"
    }
   ],
   "source": [
    "df_ind = pd.read_csv(\"assignment4_weather_report_1901_2021/tasmax_timeseries_monthly_cru_1901-2021_IND.csv\",\n",
    "                    skiprows=2, index_col=0)\n",
    "df_ind.head(3)\n",
    "                     "
   ]
  },
  {
   "cell_type": "code",
   "execution_count": 61,
   "metadata": {
    "collapsed": false
   },
   "outputs": [
    {
     "data": {
      "text/html": [
       "<div>\n",
       "<table border=\"1\" class=\"dataframe\">\n",
       "  <thead>\n",
       "    <tr style=\"text-align: right;\">\n",
       "      <th></th>\n",
       "      <th>Jan</th>\n",
       "      <th>Feb</th>\n",
       "      <th>Mar</th>\n",
       "      <th>Apr</th>\n",
       "      <th>May</th>\n",
       "      <th>Jun</th>\n",
       "      <th>Jul</th>\n",
       "      <th>Aug</th>\n",
       "      <th>Sep</th>\n",
       "      <th>Oct</th>\n",
       "      <th>Nov</th>\n",
       "      <th>Dec</th>\n",
       "      <th>tmax_india</th>\n",
       "    </tr>\n",
       "  </thead>\n",
       "  <tbody>\n",
       "    <tr>\n",
       "      <th>1901</th>\n",
       "      <td>23.64</td>\n",
       "      <td>25.67</td>\n",
       "      <td>31.19</td>\n",
       "      <td>34.84</td>\n",
       "      <td>36.59</td>\n",
       "      <td>35.52</td>\n",
       "      <td>31.61</td>\n",
       "      <td>30.00</td>\n",
       "      <td>30.91</td>\n",
       "      <td>31.28</td>\n",
       "      <td>27.57</td>\n",
       "      <td>24.78</td>\n",
       "      <td>36.59</td>\n",
       "    </tr>\n",
       "    <tr>\n",
       "      <th>1902</th>\n",
       "      <td>25.20</td>\n",
       "      <td>27.05</td>\n",
       "      <td>32.45</td>\n",
       "      <td>35.20</td>\n",
       "      <td>37.01</td>\n",
       "      <td>35.17</td>\n",
       "      <td>31.39</td>\n",
       "      <td>30.91</td>\n",
       "      <td>30.49</td>\n",
       "      <td>30.52</td>\n",
       "      <td>27.12</td>\n",
       "      <td>24.29</td>\n",
       "      <td>37.01</td>\n",
       "    </tr>\n",
       "    <tr>\n",
       "      <th>1903</th>\n",
       "      <td>24.35</td>\n",
       "      <td>25.91</td>\n",
       "      <td>30.24</td>\n",
       "      <td>34.45</td>\n",
       "      <td>36.22</td>\n",
       "      <td>35.47</td>\n",
       "      <td>31.80</td>\n",
       "      <td>30.12</td>\n",
       "      <td>30.73</td>\n",
       "      <td>30.27</td>\n",
       "      <td>26.46</td>\n",
       "      <td>23.89</td>\n",
       "      <td>36.22</td>\n",
       "    </tr>\n",
       "    <tr>\n",
       "      <th>1904</th>\n",
       "      <td>24.19</td>\n",
       "      <td>26.52</td>\n",
       "      <td>30.69</td>\n",
       "      <td>35.34</td>\n",
       "      <td>36.33</td>\n",
       "      <td>34.25</td>\n",
       "      <td>30.64</td>\n",
       "      <td>30.10</td>\n",
       "      <td>30.61</td>\n",
       "      <td>30.63</td>\n",
       "      <td>26.91</td>\n",
       "      <td>24.57</td>\n",
       "      <td>36.33</td>\n",
       "    </tr>\n",
       "    <tr>\n",
       "      <th>1905</th>\n",
       "      <td>23.24</td>\n",
       "      <td>24.68</td>\n",
       "      <td>29.30</td>\n",
       "      <td>33.06</td>\n",
       "      <td>36.98</td>\n",
       "      <td>35.83</td>\n",
       "      <td>31.38</td>\n",
       "      <td>30.46</td>\n",
       "      <td>30.77</td>\n",
       "      <td>30.73</td>\n",
       "      <td>28.06</td>\n",
       "      <td>24.31</td>\n",
       "      <td>36.98</td>\n",
       "    </tr>\n",
       "  </tbody>\n",
       "</table>\n",
       "</div>"
      ],
      "text/plain": [
       "        Jan    Feb    Mar    Apr    May    Jun    Jul    Aug    Sep    Oct  \\\n",
       "1901  23.64  25.67  31.19  34.84  36.59  35.52  31.61  30.00  30.91  31.28   \n",
       "1902  25.20  27.05  32.45  35.20  37.01  35.17  31.39  30.91  30.49  30.52   \n",
       "1903  24.35  25.91  30.24  34.45  36.22  35.47  31.80  30.12  30.73  30.27   \n",
       "1904  24.19  26.52  30.69  35.34  36.33  34.25  30.64  30.10  30.61  30.63   \n",
       "1905  23.24  24.68  29.30  33.06  36.98  35.83  31.38  30.46  30.77  30.73   \n",
       "\n",
       "        Nov    Dec  tmax_india  \n",
       "1901  27.57  24.78       36.59  \n",
       "1902  27.12  24.29       37.01  \n",
       "1903  26.46  23.89       36.22  \n",
       "1904  26.91  24.57       36.33  \n",
       "1905  28.06  24.31       36.98  "
      ]
     },
     "execution_count": 61,
     "metadata": {},
     "output_type": "execute_result"
    }
   ],
   "source": [
    "df_ind['tmax_india'] = df_ind.max(axis=1)\n",
    "df_ind.head(5)"
   ]
  },
  {
   "cell_type": "markdown",
   "metadata": {
    "collapsed": true
   },
   "source": [
    "# Merging to  DataFrames and Selecting Datapoints in between 2007 t0 2021"
   ]
  },
  {
   "cell_type": "code",
   "execution_count": 63,
   "metadata": {
    "collapsed": false
   },
   "outputs": [
    {
     "data": {
      "text/html": [
       "<div>\n",
       "<table border=\"1\" class=\"dataframe\">\n",
       "  <thead>\n",
       "    <tr style=\"text-align: right;\">\n",
       "      <th></th>\n",
       "      <th>years</th>\n",
       "      <th>tmax_bangladesh</th>\n",
       "      <th>tmax_india</th>\n",
       "    </tr>\n",
       "  </thead>\n",
       "  <tbody>\n",
       "    <tr>\n",
       "      <th>0</th>\n",
       "      <td>2002</td>\n",
       "      <td>33.38</td>\n",
       "      <td>37.75</td>\n",
       "    </tr>\n",
       "    <tr>\n",
       "      <th>1</th>\n",
       "      <td>2003</td>\n",
       "      <td>33.83</td>\n",
       "      <td>36.99</td>\n",
       "    </tr>\n",
       "    <tr>\n",
       "      <th>2</th>\n",
       "      <td>2004</td>\n",
       "      <td>34.46</td>\n",
       "      <td>36.84</td>\n",
       "    </tr>\n",
       "    <tr>\n",
       "      <th>3</th>\n",
       "      <td>2005</td>\n",
       "      <td>33.86</td>\n",
       "      <td>36.38</td>\n",
       "    </tr>\n",
       "    <tr>\n",
       "      <th>4</th>\n",
       "      <td>2006</td>\n",
       "      <td>33.11</td>\n",
       "      <td>37.13</td>\n",
       "    </tr>\n",
       "  </tbody>\n",
       "</table>\n",
       "</div>"
      ],
      "text/plain": [
       "   years  tmax_bangladesh  tmax_india\n",
       "0   2002            33.38       37.75\n",
       "1   2003            33.83       36.99\n",
       "2   2004            34.46       36.84\n",
       "3   2005            33.86       36.38\n",
       "4   2006            33.11       37.13"
      ]
     },
     "execution_count": 63,
     "metadata": {},
     "output_type": "execute_result"
    }
   ],
   "source": [
    "df=pd.merge(df_bgd, df_ind, how = 'inner', left_index= True, right_index = True)\n",
    "df.reset_index(inplace=True)\n",
    "df.rename(columns={'index':'years'}, inplace =True)\n",
    "df=df[['years', 'tmax_bangladesh', 'tmax_india']]\n",
    "df=df[(df['years']>2001) & (df['years']<=2021)]\n",
    "df.reset_index(inplace= True, drop=True)\n",
    "df.head(5)"
   ]
  },
  {
   "cell_type": "markdown",
   "metadata": {},
   "source": [
    "# Melting\n",
    "\n",
    "It is used to make the data analysis easier. unpivots a DataFrame from wide format to long format.\n",
    "\n",
    "one or more columns are identifier variables and column values measured variables."
   ]
  },
  {
   "cell_type": "code",
   "execution_count": 64,
   "metadata": {
    "collapsed": false,
    "scrolled": true
   },
   "outputs": [
    {
     "data": {
      "text/html": [
       "<div>\n",
       "<table border=\"1\" class=\"dataframe\">\n",
       "  <thead>\n",
       "    <tr style=\"text-align: right;\">\n",
       "      <th></th>\n",
       "      <th>years</th>\n",
       "      <th>variable</th>\n",
       "      <th>value</th>\n",
       "    </tr>\n",
       "  </thead>\n",
       "  <tbody>\n",
       "    <tr>\n",
       "      <th>0</th>\n",
       "      <td>2002</td>\n",
       "      <td>tmax_bangladesh</td>\n",
       "      <td>33.38</td>\n",
       "    </tr>\n",
       "    <tr>\n",
       "      <th>1</th>\n",
       "      <td>2003</td>\n",
       "      <td>tmax_bangladesh</td>\n",
       "      <td>33.83</td>\n",
       "    </tr>\n",
       "    <tr>\n",
       "      <th>2</th>\n",
       "      <td>2004</td>\n",
       "      <td>tmax_bangladesh</td>\n",
       "      <td>34.46</td>\n",
       "    </tr>\n",
       "    <tr>\n",
       "      <th>3</th>\n",
       "      <td>2005</td>\n",
       "      <td>tmax_bangladesh</td>\n",
       "      <td>33.86</td>\n",
       "    </tr>\n",
       "    <tr>\n",
       "      <th>4</th>\n",
       "      <td>2006</td>\n",
       "      <td>tmax_bangladesh</td>\n",
       "      <td>33.11</td>\n",
       "    </tr>\n",
       "  </tbody>\n",
       "</table>\n",
       "</div>"
      ],
      "text/plain": [
       "   years         variable  value\n",
       "0   2002  tmax_bangladesh  33.38\n",
       "1   2003  tmax_bangladesh  33.83\n",
       "2   2004  tmax_bangladesh  34.46\n",
       "3   2005  tmax_bangladesh  33.86\n",
       "4   2006  tmax_bangladesh  33.11"
      ]
     },
     "execution_count": 64,
     "metadata": {},
     "output_type": "execute_result"
    }
   ],
   "source": [
    "final_melted = pd.melt(df,id_vars=['years'])\n",
    "final_melted.head()"
   ]
  },
  {
   "cell_type": "code",
   "execution_count": null,
   "metadata": {
    "collapsed": true
   },
   "outputs": [],
   "source": [
    " #sns.relplot(data=df_melt, x=\"year\", y=\"Rating\", hue=\"Action&Comedy\",kind=\"line\", height=4, aspect=.7)"
   ]
  },
  {
   "cell_type": "code",
   "execution_count": 66,
   "metadata": {
    "collapsed": false
   },
   "outputs": [
    {
     "data": {
      "image/png": "[encoded data removed]",
      "text/plain": [
       "<matplotlib.figure.Figure at 0x7fb446f21e80>"
      ]
     },
     "metadata": {},
     "output_type": "display_data"
    }
   ],
   "source": [
    "\n",
    "\n",
    "#for figuresize\n",
    "fig = plt.figure(figsize=(18,10))\n",
    "plt.title('Maximum Temp of 2002-2021 for Bangladesh vs India')\n",
    "\n",
    "ax=sns.pointplot(x=\"years\", y=\"value\", hue='variable', data=final_melted, palette=sns.color_palette([\"#56B4E9\", \"#009E73\"]))\n",
    "#rename the labeling\n",
    "ax.set(ylabel='temperature')\n",
    "#to change style and font\n",
    "sns.set(style='whitegrid', rc={\"grid.linewidth\": 0.1})\n",
    "sns.set_context(\"paper\", font_scale=2)\n",
    "\n",
    "#colrelation coeff of tmax_bgd and tmax_ind\n",
    "r, p = sp.stats.pearsonr(x=df['tmax_bangladesh'], y=df['tmax_india'])\n",
    "plt.text(.01, 1.01, 'coeff(BGD/IND)={:.2f}'.format(r), transform=ax.transAxes)\n",
    "\n",
    "plt.show()"
   ]
  },
  {
   "cell_type": "code",
   "execution_count": 67,
   "metadata": {
    "collapsed": false
   },
   "outputs": [],
   "source": [
    "fig.savefig(\"tmax_bgd_ind.png\")"
   ]
  }
 ],
 "metadata": {
  "kernelspec": {
   "display_name": "Python 3",
   "language": "python",
   "name": "python3"
  },
  "language_info": {
   "codemirror_mode": {
    "name": "ipython",
    "version": 3
   },
   "file_extension": ".py",
   "mimetype": "text/x-python",
   "name": "python",
   "nbconvert_exporter": "python",
   "pygments_lexer": "ipython3",
   "version": "3.6.2"
  }
 },
 "nbformat": 4,
 "nbformat_minor": 1
}
