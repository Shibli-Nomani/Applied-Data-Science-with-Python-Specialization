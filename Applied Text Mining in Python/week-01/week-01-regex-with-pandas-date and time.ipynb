{
 "cells": [
  {
   "cell_type": "code",
   "execution_count": 3,
   "id": "80561499-65ea-41c3-b491-7b70f42665de",
   "metadata": {},
   "outputs": [],
   "source": [
    "import pandas as pd"
   ]
  },
  {
   "cell_type": "code",
   "execution_count": 4,
   "id": "ffa4b143-bac7-4a57-989b-ff2217e04ab1",
   "metadata": {},
   "outputs": [
    {
     "data": {
      "text/html": [
       "<div>\n",
       "<style scoped>\n",
       "    .dataframe tbody tr th:only-of-type {\n",
       "        vertical-align: middle;\n",
       "    }\n",
       "\n",
       "    .dataframe tbody tr th {\n",
       "        vertical-align: top;\n",
       "    }\n",
       "\n",
       "    .dataframe thead th {\n",
       "        text-align: right;\n",
       "    }\n",
       "</style>\n",
       "<table border=\"1\" class=\"dataframe\">\n",
       "  <thead>\n",
       "    <tr style=\"text-align: right;\">\n",
       "      <th></th>\n",
       "      <th>text</th>\n",
       "    </tr>\n",
       "  </thead>\n",
       "  <tbody>\n",
       "    <tr>\n",
       "      <th>0</th>\n",
       "      <td>Monday: The doctor's appointment is at 2:45pm.</td>\n",
       "    </tr>\n",
       "    <tr>\n",
       "      <th>1</th>\n",
       "      <td>Tuesday: The dentist's appointment is at 11:30...</td>\n",
       "    </tr>\n",
       "    <tr>\n",
       "      <th>2</th>\n",
       "      <td>Thursday: Be back home by 11:15 pm at the latest.</td>\n",
       "    </tr>\n",
       "    <tr>\n",
       "      <th>3</th>\n",
       "      <td>Friday: Take the train at 08:10 am, arrive at ...</td>\n",
       "    </tr>\n",
       "  </tbody>\n",
       "</table>\n",
       "</div>"
      ],
      "text/plain": [
       "                                                text\n",
       "0     Monday: The doctor's appointment is at 2:45pm.\n",
       "1  Tuesday: The dentist's appointment is at 11:30...\n",
       "2  Thursday: Be back home by 11:15 pm at the latest.\n",
       "3  Friday: Take the train at 08:10 am, arrive at ..."
      ]
     },
     "execution_count": 4,
     "metadata": {},
     "output_type": "execute_result"
    }
   ],
   "source": [
    "time_sentences = time_sentences = [\"Monday: The doctor's appointment is at 2:45pm.\",\n",
    "                                   \"Tuesday: The dentist's appointment is at 11:30 am.\" \n",
    "                                   \"Wednesday: At 7:00pm, there is a basketball game!\",\n",
    "                                   \"Thursday: Be back home by 11:15 pm at the latest.\",\n",
    "                                   \"Friday: Take the train at 08:10 am, arrive at 09:00 am.\"]\n",
    "\n",
    "df = pd.DataFrame(time_sentences, columns = ['text'])\n",
    "df"
   ]
  },
  {
   "cell_type": "code",
   "execution_count": 5,
   "id": "6abf189a-0ec4-475d-a424-76297f469c22",
   "metadata": {},
   "outputs": [
    {
     "data": {
      "text/plain": [
       "0    46\n",
       "1    99\n",
       "2    49\n",
       "3    55\n",
       "Name: text, dtype: int64"
      ]
     },
     "execution_count": 5,
     "metadata": {},
     "output_type": "execute_result"
    }
   ],
   "source": [
    "df['text'].str.len() #length of string in each raw"
   ]
  },
  {
   "cell_type": "code",
   "execution_count": 6,
   "id": "2be7951d-5f50-4548-96f4-7d2489984bf1",
   "metadata": {},
   "outputs": [
    {
     "data": {
      "text/plain": [
       "0     7\n",
       "1    15\n",
       "2    10\n",
       "3    11\n",
       "Name: text, dtype: int64"
      ]
     },
     "execution_count": 6,
     "metadata": {},
     "output_type": "execute_result"
    }
   ],
   "source": [
    "df['text'].str.split().str.len()"
   ]
  },
  {
   "cell_type": "markdown",
   "id": "c586ece2-2aae-4ec0-ba5c-b2b584df9cb4",
   "metadata": {},
   "source": [
    "<h3>Find Containing Word </h3>"
   ]
  },
  {
   "cell_type": "code",
   "execution_count": 7,
   "id": "be6bd9b0-5608-46d4-b085-042ff6d042c5",
   "metadata": {},
   "outputs": [
    {
     "data": {
      "text/plain": [
       "0     True\n",
       "1     True\n",
       "2    False\n",
       "3    False\n",
       "Name: text, dtype: bool"
      ]
     },
     "execution_count": 7,
     "metadata": {},
     "output_type": "execute_result"
    }
   ],
   "source": [
    "df['text'].str.contains('appointment')"
   ]
  },
  {
   "cell_type": "markdown",
   "id": "a921fa4d-db05-472f-848c-9b58e54f2639",
   "metadata": {},
   "source": [
    "<h3>How many times digit occurs</h3>"
   ]
  },
  {
   "cell_type": "code",
   "execution_count": 8,
   "id": "4874307a-3126-4ac3-81d2-a0c3b4618b97",
   "metadata": {},
   "outputs": [
    {
     "data": {
      "text/plain": [
       "0    3\n",
       "1    7\n",
       "2    4\n",
       "3    8\n",
       "Name: text, dtype: int64"
      ]
     },
     "execution_count": 8,
     "metadata": {},
     "output_type": "execute_result"
    }
   ],
   "source": [
    "df['text'].str.count(r'\\d')"
   ]
  },
  {
   "cell_type": "markdown",
   "id": "1782f519-1d24-4d66-8fc1-c4be8caf1327",
   "metadata": {},
   "source": [
    "<h3>Find all digits</h3>"
   ]
  },
  {
   "cell_type": "code",
   "execution_count": 10,
   "id": "170241d1-ed7f-44ad-812a-7f676680d3fd",
   "metadata": {},
   "outputs": [
    {
     "data": {
      "text/plain": [
       "0                   [2, 4, 5]\n",
       "1       [1, 1, 3, 0, 7, 0, 0]\n",
       "2                [1, 1, 1, 5]\n",
       "3    [0, 8, 1, 0, 0, 9, 0, 0]\n",
       "Name: text, dtype: object"
      ]
     },
     "execution_count": 10,
     "metadata": {},
     "output_type": "execute_result"
    }
   ],
   "source": [
    "df['text'].str.findall(r'\\d')"
   ]
  },
  {
   "cell_type": "code",
   "execution_count": 20,
   "id": "0d3e663c-074a-45f0-8751-3070e8a820e4",
   "metadata": {},
   "outputs": [
    {
     "data": {
      "text/plain": [
       "0                      []\n",
       "1              [(11, 30)]\n",
       "2              [(11, 15)]\n",
       "3    [(08, 10), (09, 00)]\n",
       "Name: text, dtype: object"
      ]
     },
     "execution_count": 20,
     "metadata": {},
     "output_type": "execute_result"
    }
   ],
   "source": [
    "df['text'].str.findall(r'(\\d\\d):(\\d\\d)')"
   ]
  },
  {
   "cell_type": "code",
   "execution_count": 21,
   "id": "23120be0-3921-414e-9604-e5cb7343575b",
   "metadata": {},
   "outputs": [
    {
     "data": {
      "text/plain": [
       "0               [(2, 45)]\n",
       "1     [(11, 30), (7, 00)]\n",
       "2              [(11, 15)]\n",
       "3    [(08, 10), (09, 00)]\n",
       "Name: text, dtype: object"
      ]
     },
     "execution_count": 21,
     "metadata": {},
     "output_type": "execute_result"
    }
   ],
   "source": [
    "df['text'].str.findall(r'(\\d?\\d):(\\d\\d)')"
   ]
  },
  {
   "cell_type": "markdown",
   "id": "fe5e0628-9500-431a-a665-fd65da996081",
   "metadata": {},
   "source": [
    "# Replace"
   ]
  },
  {
   "cell_type": "markdown",
   "id": "22badf1d-e0f2-4b8d-8671-8275aa40c1f5",
   "metadata": {},
   "source": [
    "<h3>Replace the weekend by ????</h3>"
   ]
  },
  {
   "cell_type": "code",
   "execution_count": 24,
   "id": "39a05e00-55b5-4490-9415-d03fc836aa3d",
   "metadata": {},
   "outputs": [
    {
     "data": {
      "text/plain": [
       "0       Monday: The doctor's appointment is at 2:45pm.\n",
       "1    Tuesday: The dentist's appointment is at 11:30...\n",
       "2    Thursday: Be back home by 11:15 pm at the latest.\n",
       "3    Friday: Take the train at 08:10 am, arrive at ...\n",
       "Name: text, dtype: object"
      ]
     },
     "execution_count": 24,
     "metadata": {},
     "output_type": "execute_result"
    }
   ],
   "source": [
    "df['text']"
   ]
  },
  {
   "cell_type": "code",
   "execution_count": 28,
   "id": "e8771de9-134a-4a02-8c78-2b213b629cf5",
   "metadata": {},
   "outputs": [
    {
     "data": {
      "text/plain": [
       "0         ????: The doctor's appointment is at 2:45pm.\n",
       "1    ????: The dentist's appointment is at 11:30 am...\n",
       "2        ????: Be back home by 11:15 pm at the latest.\n",
       "3    ????: Take the train at 08:10 am, arrive at 09...\n",
       "Name: text, dtype: object"
      ]
     },
     "execution_count": 28,
     "metadata": {},
     "output_type": "execute_result"
    }
   ],
   "source": [
    "df['text'].str.replace(r'\\w+day\\b', '????')"
   ]
  },
  {
   "cell_type": "code",
   "execution_count": 31,
   "id": "5c2250c6-14b5-4bf1-bba9-865d1c1f5eed",
   "metadata": {},
   "outputs": [
    {
     "data": {
      "text/plain": [
       "<function __main__.<lambda>(x)>"
      ]
     },
     "execution_count": 31,
     "metadata": {},
     "output_type": "execute_result"
    }
   ],
   "source": [
    "lambda x : x.groups() [0][:3]"
   ]
  },
  {
   "cell_type": "markdown",
   "id": "528b3636-894c-45d9-8f65-882ad0508621",
   "metadata": {},
   "source": [
    "<h3>SLicing the word and replace</h3>"
   ]
  },
  {
   "cell_type": "code",
   "execution_count": 29,
   "id": "c0af585b-14aa-4aab-9892-21d30a47b0c9",
   "metadata": {},
   "outputs": [
    {
     "data": {
      "text/plain": [
       "0          Mon: The doctor's appointment is at 2:45pm.\n",
       "1    Tue: The dentist's appointment is at 11:30 am....\n",
       "2         Thu: Be back home by 11:15 pm at the latest.\n",
       "3    Fri: Take the train at 08:10 am, arrive at 09:...\n",
       "Name: text, dtype: object"
      ]
     },
     "execution_count": 29,
     "metadata": {},
     "output_type": "execute_result"
    }
   ],
   "source": [
    "df['text'].str.replace(r'(\\w+day\\b)', lambda x : x.groups() [0][:3]) "
   ]
  },
  {
   "cell_type": "markdown",
   "id": "d49e038b-0f5d-4749-8e05-a86a7acc5e4c",
   "metadata": {},
   "source": [
    "# Extract"
   ]
  },
  {
   "cell_type": "code",
   "execution_count": 33,
   "id": "1c035998-481c-43ad-abc1-159bfcb13979",
   "metadata": {},
   "outputs": [
    {
     "data": {
      "text/html": [
       "<div>\n",
       "<style scoped>\n",
       "    .dataframe tbody tr th:only-of-type {\n",
       "        vertical-align: middle;\n",
       "    }\n",
       "\n",
       "    .dataframe tbody tr th {\n",
       "        vertical-align: top;\n",
       "    }\n",
       "\n",
       "    .dataframe thead th {\n",
       "        text-align: right;\n",
       "    }\n",
       "</style>\n",
       "<table border=\"1\" class=\"dataframe\">\n",
       "  <thead>\n",
       "    <tr style=\"text-align: right;\">\n",
       "      <th></th>\n",
       "      <th>0</th>\n",
       "      <th>1</th>\n",
       "    </tr>\n",
       "  </thead>\n",
       "  <tbody>\n",
       "    <tr>\n",
       "      <th>0</th>\n",
       "      <td>2</td>\n",
       "      <td>45</td>\n",
       "    </tr>\n",
       "    <tr>\n",
       "      <th>1</th>\n",
       "      <td>11</td>\n",
       "      <td>30</td>\n",
       "    </tr>\n",
       "    <tr>\n",
       "      <th>2</th>\n",
       "      <td>11</td>\n",
       "      <td>15</td>\n",
       "    </tr>\n",
       "    <tr>\n",
       "      <th>3</th>\n",
       "      <td>08</td>\n",
       "      <td>10</td>\n",
       "    </tr>\n",
       "  </tbody>\n",
       "</table>\n",
       "</div>"
      ],
      "text/plain": [
       "    0   1\n",
       "0   2  45\n",
       "1  11  30\n",
       "2  11  15\n",
       "3  08  10"
      ]
     },
     "execution_count": 33,
     "metadata": {},
     "output_type": "execute_result"
    }
   ],
   "source": [
    "df['text'].str.extract(r'(\\d?\\d):(\\d\\d)') #it will only extract the firsst numeric pattern only in each row"
   ]
  },
  {
   "cell_type": "markdown",
   "id": "8e569303-a09a-4a4b-96fb-ccd9aae8dcf6",
   "metadata": {},
   "source": [
    "<h2>Extract All including time am pm</h2>"
   ]
  },
  {
   "cell_type": "code",
   "execution_count": 36,
   "id": "59053247-57d4-42a6-9de9-0d7141f3b6fc",
   "metadata": {},
   "outputs": [
    {
     "data": {
      "text/html": [
       "<div>\n",
       "<style scoped>\n",
       "    .dataframe tbody tr th:only-of-type {\n",
       "        vertical-align: middle;\n",
       "    }\n",
       "\n",
       "    .dataframe tbody tr th {\n",
       "        vertical-align: top;\n",
       "    }\n",
       "\n",
       "    .dataframe thead th {\n",
       "        text-align: right;\n",
       "    }\n",
       "</style>\n",
       "<table border=\"1\" class=\"dataframe\">\n",
       "  <thead>\n",
       "    <tr style=\"text-align: right;\">\n",
       "      <th></th>\n",
       "      <th>0</th>\n",
       "      <th>1</th>\n",
       "      <th>2</th>\n",
       "      <th>3</th>\n",
       "    </tr>\n",
       "  </thead>\n",
       "  <tbody>\n",
       "    <tr>\n",
       "      <th>0</th>\n",
       "      <td>2:45pm</td>\n",
       "      <td>2</td>\n",
       "      <td>45</td>\n",
       "      <td>pm</td>\n",
       "    </tr>\n",
       "    <tr>\n",
       "      <th>1</th>\n",
       "      <td>11:30 am</td>\n",
       "      <td>11</td>\n",
       "      <td>30</td>\n",
       "      <td>am</td>\n",
       "    </tr>\n",
       "    <tr>\n",
       "      <th>2</th>\n",
       "      <td>11:15 pm</td>\n",
       "      <td>11</td>\n",
       "      <td>15</td>\n",
       "      <td>pm</td>\n",
       "    </tr>\n",
       "    <tr>\n",
       "      <th>3</th>\n",
       "      <td>08:10 am</td>\n",
       "      <td>08</td>\n",
       "      <td>10</td>\n",
       "      <td>am</td>\n",
       "    </tr>\n",
       "  </tbody>\n",
       "</table>\n",
       "</div>"
      ],
      "text/plain": [
       "          0   1   2   3\n",
       "0    2:45pm   2  45  pm\n",
       "1  11:30 am  11  30  am\n",
       "2  11:15 pm  11  15  pm\n",
       "3  08:10 am  08  10  am"
      ]
     },
     "execution_count": 36,
     "metadata": {},
     "output_type": "execute_result"
    }
   ],
   "source": [
    "df['text'].str.extract(r'((\\d?\\d):(\\d\\d) ?([ap]m))') #only for 1st time digit in a row"
   ]
  },
  {
   "cell_type": "code",
   "execution_count": 41,
   "id": "393a1148-7bc5-4700-b075-a083ed98de16",
   "metadata": {},
   "outputs": [
    {
     "data": {
      "text/plain": [
       "'Friday: Take the train at 08:10 am, arrive at 09:00 am.'"
      ]
     },
     "execution_count": 41,
     "metadata": {},
     "output_type": "execute_result"
    }
   ],
   "source": [
    "df['text'][3]"
   ]
  },
  {
   "cell_type": "code",
   "execution_count": 39,
   "id": "30d0ec4d-aa2f-42e2-820f-1cf4ce135a4b",
   "metadata": {},
   "outputs": [
    {
     "data": {
      "text/html": [
       "<div>\n",
       "<style scoped>\n",
       "    .dataframe tbody tr th:only-of-type {\n",
       "        vertical-align: middle;\n",
       "    }\n",
       "\n",
       "    .dataframe tbody tr th {\n",
       "        vertical-align: top;\n",
       "    }\n",
       "\n",
       "    .dataframe thead th {\n",
       "        text-align: right;\n",
       "    }\n",
       "</style>\n",
       "<table border=\"1\" class=\"dataframe\">\n",
       "  <thead>\n",
       "    <tr style=\"text-align: right;\">\n",
       "      <th></th>\n",
       "      <th></th>\n",
       "      <th>time</th>\n",
       "      <th>hour</th>\n",
       "      <th>minute</th>\n",
       "      <th>period</th>\n",
       "    </tr>\n",
       "    <tr>\n",
       "      <th></th>\n",
       "      <th>match</th>\n",
       "      <th></th>\n",
       "      <th></th>\n",
       "      <th></th>\n",
       "      <th></th>\n",
       "    </tr>\n",
       "  </thead>\n",
       "  <tbody>\n",
       "    <tr>\n",
       "      <th>1</th>\n",
       "      <th>0</th>\n",
       "      <td>1:30 am</td>\n",
       "      <td>1</td>\n",
       "      <td>30</td>\n",
       "      <td>am</td>\n",
       "    </tr>\n",
       "    <tr>\n",
       "      <th>2</th>\n",
       "      <th>0</th>\n",
       "      <td>1:15 pm</td>\n",
       "      <td>1</td>\n",
       "      <td>15</td>\n",
       "      <td>pm</td>\n",
       "    </tr>\n",
       "    <tr>\n",
       "      <th rowspan=\"2\" valign=\"top\">3</th>\n",
       "      <th>0</th>\n",
       "      <td>8:10 am</td>\n",
       "      <td>8</td>\n",
       "      <td>10</td>\n",
       "      <td>am</td>\n",
       "    </tr>\n",
       "    <tr>\n",
       "      <th>1</th>\n",
       "      <td>9:00 am</td>\n",
       "      <td>9</td>\n",
       "      <td>00</td>\n",
       "      <td>am</td>\n",
       "    </tr>\n",
       "  </tbody>\n",
       "</table>\n",
       "</div>"
      ],
      "text/plain": [
       "            time hour minute period\n",
       "  match                            \n",
       "1 0      1:30 am    1     30     am\n",
       "2 0      1:15 pm    1     15     pm\n",
       "3 0      8:10 am    8     10     am\n",
       "  1      9:00 am    9     00     am"
      ]
     },
     "execution_count": 39,
     "metadata": {},
     "output_type": "execute_result"
    }
   ],
   "source": [
    "df['text'].str.extractall(r'(?P<time>(?P<hour>\\d?):(?P<minute>\\d\\d) ?(?P<period> [ap]m))')"
   ]
  },
  {
   "cell_type": "code",
   "execution_count": null,
   "id": "15818672-c1ca-4f36-8864-d47591d1f6d4",
   "metadata": {},
   "outputs": [],
   "source": []
  }
 ],
 "metadata": {
  "kernelspec": {
   "display_name": "Python 3 (ipykernel)",
   "language": "python",
   "name": "python3"
  },
  "language_info": {
   "codemirror_mode": {
    "name": "ipython",
    "version": 3
   },
   "file_extension": ".py",
   "mimetype": "text/x-python",
   "name": "python",
   "nbconvert_exporter": "python",
   "pygments_lexer": "ipython3",
   "version": "3.8.10"
  }
 },
 "nbformat": 4,
 "nbformat_minor": 5
}
