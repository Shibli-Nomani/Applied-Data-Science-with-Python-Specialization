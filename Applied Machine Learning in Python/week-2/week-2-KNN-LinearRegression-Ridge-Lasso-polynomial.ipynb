{
 "cells": [
  {
   "cell_type": "markdown",
   "id": "b638c436-6ac3-4ee6-b333-a61e28e53816",
   "metadata": {},
   "source": [
    "# K-Nearest Neighboring Regression vs LINEAR REGRESSION \n"
   ]
  },
  {
   "cell_type": "markdown",
   "id": "7dea913d-8191-482e-aedf-c5c60b2204cd",
   "metadata": {},
   "source": [
    "<h2>Must Read</h2>\n",
    "\n",
    "regarding **`Model Complexity and Overfitting`**: https://vitalflux.com/model-complexity-overfitting-in-machine-learning/"
   ]
  },
  {
   "cell_type": "markdown",
   "id": "c4ee2d28-6738-493b-81fb-e628c188caae",
   "metadata": {},
   "source": [
    "# Import Libaries"
   ]
  },
  {
   "cell_type": "code",
   "execution_count": 15,
   "id": "e1415d7b-3e7f-4d56-b18f-6822645f2cd6",
   "metadata": {},
   "outputs": [],
   "source": [
    "import numpy as np\n",
    "import pandas as pd\n",
    "\n",
    "import matplotlib.pyplot as plt\n",
    "\n",
    "%matplotlib notebook\n",
    "%matplotlib inline"
   ]
  },
  {
   "cell_type": "markdown",
   "id": "a60485a0-3834-4fff-bb89-7001acc89b6a",
   "metadata": {},
   "source": [
    "# Create Data"
   ]
  },
  {
   "cell_type": "markdown",
   "id": "b5224624-4022-40d5-9d82-aa449d5d7737",
   "metadata": {},
   "source": [
    "<h4> Parameters Details </h4>"
   ]
  },
  {
   "cell_type": "markdown",
   "id": "6b198e99-335e-4935-b4e2-af6894ee661a",
   "metadata": {},
   "source": [
    "`n_samplesint, default=100`\n",
    "The number of samples.\n",
    "\n",
    "`n_featuresint, default=100`\n",
    "The number of features.\n",
    "\n",
    "`n_informativeint, default=10`\n",
    "The number of informative features, i.e., the number of features used to build the linear model used to generate the output."
   ]
  },
  {
   "cell_type": "code",
   "execution_count": 16,
   "id": "b5b387d5-76eb-44d6-b95b-005b31aacef5",
   "metadata": {},
   "outputs": [],
   "source": [
    "from sklearn.datasets import make_regression\n",
    "\n",
    "X_R1, y_R1 = make_regression(n_samples =100, n_features = 1, \n",
    "                              n_informative = 1, bias = 150.0,\n",
    "                              noise = 30, random_state = 0)"
   ]
  },
  {
   "cell_type": "code",
   "execution_count": 17,
   "id": "18ac5a3d-a1b8-496a-9f59-097707a0fef6",
   "metadata": {},
   "outputs": [
    {
     "name": "stdout",
     "output_type": "stream",
     "text": [
      "first 10 feature values of X_R1: \n",
      " [[-0.35955316]\n",
      " [ 0.97663904]\n",
      " [ 0.40234164]\n",
      " [-0.81314628]\n",
      " [-0.88778575]\n",
      " [ 0.44386323]\n",
      " [-0.97727788]\n",
      " [ 0.42833187]\n",
      " [ 0.20827498]\n",
      " [-0.31155253]]\n",
      "first 10 target values of y_R1: \n",
      " [120.61202772 131.22864089 150.56377656 169.90502386 118.15657878\n",
      " 196.359452    63.87424131 166.52111726 196.69750568 109.35202873]\n"
     ]
    }
   ],
   "source": [
    "print (\"first 10 feature values of X_R1:\", \"\\n\", X_R1[:10])\n",
    "\n",
    "print (\"first 10 target values of y_R1:\", \"\\n\", y_R1[:10])"
   ]
  },
  {
   "cell_type": "markdown",
   "id": "3b621a1d-4bc8-4583-a045-da9916c7bf44",
   "metadata": {},
   "source": [
    "# Data Splitting Train and Test\n",
    "\n",
    "Bydefault = train / test = 75/25 or we can mention `test_size = 20`"
   ]
  },
  {
   "cell_type": "code",
   "execution_count": 18,
   "id": "04fd3cc6-053d-4482-a481-006153fbb55c",
   "metadata": {},
   "outputs": [],
   "source": [
    "from sklearn.model_selection import train_test_split\n",
    "\n",
    "X_train, X_test, y_train, y_test = train_test_split(X_R1, y_R1, random_state = 0)"
   ]
  },
  {
   "cell_type": "markdown",
   "id": "cd0239cb-0672-468b-bb46-a869aa64267b",
   "metadata": {},
   "source": [
    "# KNN Regression Model and Result"
   ]
  },
  {
   "cell_type": "code",
   "execution_count": 19,
   "id": "e38accde-3b0a-42d2-a9a2-dab77420fe3a",
   "metadata": {},
   "outputs": [
    {
     "name": "stdout",
     "output_type": "stream",
     "text": [
      "KNN Regression:\n",
      "Predicted result of KNN Regression: \n",
      " [229.83616151 143.50734518 152.67940798 152.67940798  66.93800749\n",
      " 160.74124212 131.57264596 225.61957826 190.0981514   89.82906728\n",
      " 187.70772239 133.53618491 225.61957826 143.50734518 152.67940798\n",
      " 108.44141828 145.28507158 183.65023724 154.04043257 167.22755144\n",
      " 229.83616151 205.72441557 118.75913051 128.67927018 143.76356025]\n",
      "--------------------------------------------------------------------\n",
      "R-Squared-Score of training data : 0.720\n",
      "R-Squared-Score of testing data : 0.471\n"
     ]
    }
   ],
   "source": [
    "from sklearn.neighbors import KNeighborsRegressor\n",
    "\n",
    "X_train, X_test, y_train, y_test = train_test_split(X_R1, y_R1, random_state = 0)\n",
    "\n",
    "knnreg = KNeighborsRegressor(n_neighbors = 7).fit(X_train, y_train)\n",
    "y_predict_knn = knnreg.predict(X_test)\n",
    "\n",
    "\n",
    "print(\"KNN Regression:\")\n",
    "print(\"Predicted result of KNN Regression:\", \"\\n\", y_predict_knn)\n",
    "print(\"--------------------------------------------------------------------\")\n",
    "\n",
    "print(\"R-Squared-Score of training data : {:.3f}\".format(knnreg.score(X_train, y_train)))\n",
    "print(\"R-Squared-Score of testing data : {:.3f}\".format(knnreg.score(X_test, y_test)))"
   ]
  },
  {
   "cell_type": "markdown",
   "id": "27eee507-859d-470c-9ee0-c00ed94a4146",
   "metadata": {},
   "source": [
    "# VIsualization"
   ]
  },
  {
   "cell_type": "code",
   "execution_count": 20,
   "id": "2014527f-dedf-435d-ba22-137d09983612",
   "metadata": {},
   "outputs": [
    {
     "data": {
      "text/plain": [
       "<module 'matplotlib.pyplot' from '/opt/conda/lib/python3.8/site-packages/matplotlib/pyplot.py'>"
      ]
     },
     "execution_count": 20,
     "metadata": {},
     "output_type": "execute_result"
    },
    {
     "data": {
      "image/png": "[encoded data removed]",
      "text/plain": [
       "<Figure size 360x288 with 1 Axes>"
      ]
     },
     "metadata": {
      "needs_background": "light"
     },
     "output_type": "display_data"
    }
   ],
   "source": [
    "def knnplot():\n",
    "    plt.figure(figsize = (5,4))\n",
    "    X_predict_input = np.linspace(3, -3, 25).reshape(-1, 1)\n",
    "\n",
    "    K=5\n",
    "    plt.plot(X_predict_input, y_predict_knn, '--') \n",
    "    plt.plot(X_train, y_train,'o', alpha = 0.9, label = 'Train')\n",
    "    plt.plot(X_test, y_test, '^', alpha = 0.9, label = 'Test')\n",
    "    plt.xlabel(\"Input Feature\")\n",
    "    plt.ylabel(\"Target Values\")\n",
    "    plt.title(\"KNN Regressor (K = {}) \\n\\\n",
    "    Train $R^2 = {:.3f}$,  Test $R^2 = {:.3f}$\"\n",
    "                      .format(K, knnreg.score(X_train, y_train), knnreg.score(X_test, y_test)))\n",
    "\n",
    "    plt.xlabel(\"Feature Values (X)\")\n",
    "    plt.ylabel(\"Target Values (y)\")\n",
    "    return plt\n",
    "\n",
    "knnplot()"
   ]
  },
  {
   "cell_type": "markdown",
   "id": "4133e7b0-2a13-4871-a1e2-ef96fd373748",
   "metadata": {},
   "source": [
    "# Linear Regression Model and Result"
   ]
  },
  {
   "cell_type": "code",
   "execution_count": 21,
   "id": "133da979-79fa-40d5-958b-53bd9de09275",
   "metadata": {},
   "outputs": [
    {
     "name": "stdout",
     "output_type": "stream",
     "text": [
      "Linear Regression:\n",
      "Predicted result of Linear Regression: \n",
      " [237.61316983 130.74154636 166.8362687  166.82016654  73.9314987\n",
      " 155.59226231 140.22162228 216.73817253 200.52628282  95.18826352\n",
      " 189.62136529 119.45171223 216.47183342 130.08086731 168.02424842\n",
      " 107.51513689 128.42194459 183.23180206 165.73107237 157.96573291\n",
      " 250.87407884 203.40497884 111.27789022 114.52235174 139.06823497]\n",
      "--------------------------------------------------------------------\n",
      "linear model intercept/bias (b) : 148.44575345658873\n",
      "linear model coeffecient/weight (w) : [45.70870465]\n",
      "  note: two different coefficents for two different features\n",
      "R-Squared-Score of training data : 0.679\n",
      "R-Squared-Score of testing data : 0.492\n"
     ]
    }
   ],
   "source": [
    "from sklearn.linear_model import LinearRegression\n",
    "\n",
    "linearReg = LinearRegression().fit(X_train, y_train)\n",
    "y_predict_linear = linearReg.predict(X_test)\n",
    "\n",
    "print(\"Linear Regression:\")\n",
    "print(\"Predicted result of Linear Regression:\", \"\\n\", y_predict_linear)\n",
    "print(\"--------------------------------------------------------------------\")\n",
    "print(\"linear model intercept/bias (b) : {}\".format(linearReg.intercept_))\n",
    "print(\"linear model coeffecient/weight (w) : {}\".format(linearReg.coef_))\n",
    "print(\"  note: two different coefficents for two different features\")\n",
    "print(\"R-Squared-Score of training data : {:.3f}\".format(linearReg.score(X_train, y_train)))\n",
    "print(\"R-Squared-Score of testing data : {:.3f}\".format(linearReg.score(X_test, y_test)))\n"
   ]
  },
  {
   "cell_type": "markdown",
   "id": "42697209-6abd-4603-98e1-588556b7a749",
   "metadata": {},
   "source": [
    "# Visualization"
   ]
  },
  {
   "cell_type": "code",
   "execution_count": 22,
   "id": "ced3a92d-595d-4ac0-b357-f5ad7b890418",
   "metadata": {},
   "outputs": [
    {
     "data": {
      "text/plain": [
       "<module 'matplotlib.pyplot' from '/opt/conda/lib/python3.8/site-packages/matplotlib/pyplot.py'>"
      ]
     },
     "execution_count": 22,
     "metadata": {},
     "output_type": "execute_result"
    },
    {
     "data": {
      "image/png": "[encoded data removed]",
      "text/plain": [
       "<Figure size 360x288 with 1 Axes>"
      ]
     },
     "metadata": {
      "needs_background": "light"
     },
     "output_type": "display_data"
    }
   ],
   "source": [
    "def linearplot():\n",
    "    plt.figure(figsize = (5,4))\n",
    "    plt.scatter (X_R1, y_R1, marker = 'o', s = 50, alpha = 0.8, color =\"#A569BD\")\n",
    "    plt.plot(X_R1, linearReg.coef_ * X_R1 + linearReg.intercept_) # X = X_R1 , y = mx + c\n",
    "    plt.title(\"Least Squared Linear Regression \\n\\\n",
    "    Train $R^2 = {:.3f}$,  Test $R^2 = {:.3f}$\"\n",
    "                      .format(linearReg.score(X_train, y_train), linearReg.score(X_test, y_test)))\n",
    "    plt.xlabel(\"Feature Values (X)\")\n",
    "    plt.ylabel(\"Target Values (y)\")\n",
    "    return plt\n",
    "linearplot()"
   ]
  },
  {
   "cell_type": "markdown",
   "id": "3e4a88c6-1546-40fe-be59-e85f687be1bb",
   "metadata": {},
   "source": [
    "# KNN Regression vs Linear Regression"
   ]
  },
  {
   "cell_type": "code",
   "execution_count": 23,
   "id": "a90224c4-5638-47ba-b4bf-2eb45a5bd2e1",
   "metadata": {},
   "outputs": [
    {
     "data": {
      "text/plain": [
       "<module 'matplotlib.pyplot' from '/opt/conda/lib/python3.8/site-packages/matplotlib/pyplot.py'>"
      ]
     },
     "execution_count": 23,
     "metadata": {},
     "output_type": "execute_result"
    },
    {
     "data": {
      "image/png": "[encoded data removed]",
      "text/plain": [
       "<Figure size 360x288 with 1 Axes>"
      ]
     },
     "metadata": {
      "needs_background": "light"
     },
     "output_type": "display_data"
    },
    {
     "data": {
      "image/png": "[encoded data removed]",
      "text/plain": [
       "<Figure size 360x288 with 1 Axes>"
      ]
     },
     "metadata": {
      "needs_background": "light"
     },
     "output_type": "display_data"
    }
   ],
   "source": [
    "knnplot()\n",
    "linearplot()\n"
   ]
  },
  {
   "cell_type": "markdown",
   "id": "dff44c7c-be33-4216-ae26-d40402c0e34e",
   "metadata": {},
   "source": [
    "# Ridge Regression\n",
    "\n",
    "1. Ridge is based on least squared linear regression\n",
    "2. A penalty has been added for the large variation of weight\n",
    "3. This penalty has known as regularization which prevents overfitting and reduce model complexity.\n",
    "**`Model Complexity`**: It raises when a dataset has lot of features / non-linear relationship for regression model. It **captures lot of variation** and has **proned to be overfitted**\n",
    "\n",
    "4. Ridge uses L-2 Regularization. Minimizes the sum of square of weight\n",
    "5. Higher the **Alpha** value lower the weight value. Hence it reduces weight variation"
   ]
  },
  {
   "cell_type": "code",
   "execution_count": 24,
   "id": "71c3abd1-0681-48bb-ab26-0e8552fafd6a",
   "metadata": {},
   "outputs": [],
   "source": [
    "import pandas as pd\n",
    "import numpy as np\n",
    "import matplotlib.pyplot as plt\n",
    "\n",
    "%matplotlib inline\n",
    "%matplotlib notebook\n"
   ]
  },
  {
   "cell_type": "markdown",
   "id": "6823de25-0046-4079-9c80-b38ff4b68a49",
   "metadata": {},
   "source": [
    "# Load Crime Dataset "
   ]
  },
  {
   "cell_type": "code",
   "execution_count": 25,
   "id": "aeed81d7-b063-4af9-9449-8e3dda2e26b4",
   "metadata": {},
   "outputs": [],
   "source": [
    "# Communities and Crime dataset\n",
    "from adspy_shared_utilities import load_crime_dataset\n",
    "\n",
    "(X_crime, y_crime) = load_crime_dataset()"
   ]
  },
  {
   "cell_type": "code",
   "execution_count": 26,
   "id": "dd0a2526-b627-420a-b1a6-3cf37f8feda7",
   "metadata": {},
   "outputs": [
    {
     "data": {
      "text/html": [
       "<div>\n",
       "<style scoped>\n",
       "    .dataframe tbody tr th:only-of-type {\n",
       "        vertical-align: middle;\n",
       "    }\n",
       "\n",
       "    .dataframe tbody tr th {\n",
       "        vertical-align: top;\n",
       "    }\n",
       "\n",
       "    .dataframe thead th {\n",
       "        text-align: right;\n",
       "    }\n",
       "</style>\n",
       "<table border=\"1\" class=\"dataframe\">\n",
       "  <thead>\n",
       "    <tr style=\"text-align: right;\">\n",
       "      <th></th>\n",
       "      <th>population</th>\n",
       "      <th>householdsize</th>\n",
       "      <th>agePct12t21</th>\n",
       "      <th>agePct12t29</th>\n",
       "      <th>agePct16t24</th>\n",
       "      <th>agePct65up</th>\n",
       "      <th>numbUrban</th>\n",
       "      <th>pctUrban</th>\n",
       "      <th>medIncome</th>\n",
       "      <th>pctWWage</th>\n",
       "      <th>...</th>\n",
       "      <th>MedRentPctHousInc</th>\n",
       "      <th>MedOwnCostPctInc</th>\n",
       "      <th>MedOwnCostPctIncNoMtg</th>\n",
       "      <th>NumInShelters</th>\n",
       "      <th>NumStreet</th>\n",
       "      <th>PctForeignBorn</th>\n",
       "      <th>PctBornSameState</th>\n",
       "      <th>PctSameHouse85</th>\n",
       "      <th>PctSameCity85</th>\n",
       "      <th>PctSameState85</th>\n",
       "    </tr>\n",
       "  </thead>\n",
       "  <tbody>\n",
       "    <tr>\n",
       "      <th>0</th>\n",
       "      <td>11980</td>\n",
       "      <td>3.10</td>\n",
       "      <td>12.47</td>\n",
       "      <td>21.44</td>\n",
       "      <td>10.93</td>\n",
       "      <td>11.33</td>\n",
       "      <td>11980</td>\n",
       "      <td>100.0</td>\n",
       "      <td>75122</td>\n",
       "      <td>89.24</td>\n",
       "      <td>...</td>\n",
       "      <td>23.8</td>\n",
       "      <td>21.1</td>\n",
       "      <td>14.0</td>\n",
       "      <td>11</td>\n",
       "      <td>0</td>\n",
       "      <td>10.66</td>\n",
       "      <td>53.72</td>\n",
       "      <td>65.29</td>\n",
       "      <td>78.09</td>\n",
       "      <td>89.14</td>\n",
       "    </tr>\n",
       "    <tr>\n",
       "      <th>1</th>\n",
       "      <td>23123</td>\n",
       "      <td>2.82</td>\n",
       "      <td>11.01</td>\n",
       "      <td>21.30</td>\n",
       "      <td>10.48</td>\n",
       "      <td>17.18</td>\n",
       "      <td>23123</td>\n",
       "      <td>100.0</td>\n",
       "      <td>47917</td>\n",
       "      <td>78.99</td>\n",
       "      <td>...</td>\n",
       "      <td>27.6</td>\n",
       "      <td>20.7</td>\n",
       "      <td>12.5</td>\n",
       "      <td>0</td>\n",
       "      <td>0</td>\n",
       "      <td>8.30</td>\n",
       "      <td>77.17</td>\n",
       "      <td>71.27</td>\n",
       "      <td>90.22</td>\n",
       "      <td>96.12</td>\n",
       "    </tr>\n",
       "    <tr>\n",
       "      <th>2</th>\n",
       "      <td>29344</td>\n",
       "      <td>2.43</td>\n",
       "      <td>11.36</td>\n",
       "      <td>25.88</td>\n",
       "      <td>11.01</td>\n",
       "      <td>10.28</td>\n",
       "      <td>29344</td>\n",
       "      <td>100.0</td>\n",
       "      <td>35669</td>\n",
       "      <td>82.00</td>\n",
       "      <td>...</td>\n",
       "      <td>24.1</td>\n",
       "      <td>21.7</td>\n",
       "      <td>11.6</td>\n",
       "      <td>16</td>\n",
       "      <td>0</td>\n",
       "      <td>5.00</td>\n",
       "      <td>44.77</td>\n",
       "      <td>36.60</td>\n",
       "      <td>61.26</td>\n",
       "      <td>82.85</td>\n",
       "    </tr>\n",
       "  </tbody>\n",
       "</table>\n",
       "<p>3 rows × 88 columns</p>\n",
       "</div>"
      ],
      "text/plain": [
       "   population  householdsize  agePct12t21  agePct12t29  agePct16t24  \\\n",
       "0       11980           3.10        12.47        21.44        10.93   \n",
       "1       23123           2.82        11.01        21.30        10.48   \n",
       "2       29344           2.43        11.36        25.88        11.01   \n",
       "\n",
       "   agePct65up  numbUrban  pctUrban  medIncome  pctWWage  ...  \\\n",
       "0       11.33      11980     100.0      75122     89.24  ...   \n",
       "1       17.18      23123     100.0      47917     78.99  ...   \n",
       "2       10.28      29344     100.0      35669     82.00  ...   \n",
       "\n",
       "   MedRentPctHousInc  MedOwnCostPctInc  MedOwnCostPctIncNoMtg  NumInShelters  \\\n",
       "0               23.8              21.1                   14.0             11   \n",
       "1               27.6              20.7                   12.5              0   \n",
       "2               24.1              21.7                   11.6             16   \n",
       "\n",
       "   NumStreet  PctForeignBorn  PctBornSameState  PctSameHouse85  PctSameCity85  \\\n",
       "0          0           10.66             53.72           65.29          78.09   \n",
       "1          0            8.30             77.17           71.27          90.22   \n",
       "2          0            5.00             44.77           36.60          61.26   \n",
       "\n",
       "   PctSameState85  \n",
       "0           89.14  \n",
       "1           96.12  \n",
       "2           82.85  \n",
       "\n",
       "[3 rows x 88 columns]"
      ]
     },
     "execution_count": 26,
     "metadata": {},
     "output_type": "execute_result"
    }
   ],
   "source": [
    "X_crime.head(3)"
   ]
  },
  {
   "cell_type": "code",
   "execution_count": 84,
   "id": "dcb04376-9b28-4414-b341-1397eae843e8",
   "metadata": {},
   "outputs": [],
   "source": [
    "#X_crime.info()"
   ]
  },
  {
   "cell_type": "code",
   "execution_count": 27,
   "id": "4d77ee6b-eaaa-439a-b090-6cb62a1e15f4",
   "metadata": {},
   "outputs": [
    {
     "data": {
      "text/plain": [
       "0        41.02\n",
       "1       127.56\n",
       "2       218.59\n",
       "3       306.64\n",
       "5       442.95\n",
       "         ...  \n",
       "2210    545.75\n",
       "2211    124.10\n",
       "2212    353.83\n",
       "2213    691.17\n",
       "2214    918.89\n",
       "Name: ViolentCrimesPerPop, Length: 1994, dtype: float64"
      ]
     },
     "execution_count": 27,
     "metadata": {},
     "output_type": "execute_result"
    }
   ],
   "source": [
    "y_crime"
   ]
  },
  {
   "cell_type": "markdown",
   "id": "2d5db9a1-87f9-4ef1-838d-be2d466995a8",
   "metadata": {},
   "source": [
    "<h3> Sring to Numerical </h3>"
   ]
  },
  {
   "cell_type": "code",
   "execution_count": 68,
   "id": "ee541bcf-c679-4834-a680-ecf8cbdc7b49",
   "metadata": {
    "tags": []
   },
   "outputs": [],
   "source": [
    "#from sklearn.preprocessing import LabelEncoder\n",
    "  \n",
    "#crime = crime.apply(LabelEncoder().fit_transform)\n",
    "\n",
    "#crime.head(3)"
   ]
  },
  {
   "cell_type": "code",
   "execution_count": 28,
   "id": "2ffd0c10-6590-4ab0-95ca-aa5a20d11e15",
   "metadata": {},
   "outputs": [
    {
     "name": "stdout",
     "output_type": "stream",
     "text": [
      "shape of features: (1994, 88)\n",
      "shape of target: (1994,)\n"
     ]
    }
   ],
   "source": [
    "print(\"shape of features:\", X_crime.shape)\n",
    "print(\"shape of target:\", y_crime.shape)"
   ]
  },
  {
   "cell_type": "code",
   "execution_count": 29,
   "id": "c5d904bf-a082-4466-ac8b-ce880c98180e",
   "metadata": {},
   "outputs": [],
   "source": [
    "from sklearn.model_selection import train_test_split\n",
    "\n",
    "X_train, X_test, y_train, y_test = train_test_split(X_crime, y_crime, random_state = 0)"
   ]
  },
  {
   "cell_type": "markdown",
   "id": "cc36cc44-afe8-4501-8390-a33a16d55947",
   "metadata": {},
   "source": [
    "# Ridge Regression"
   ]
  },
  {
   "cell_type": "code",
   "execution_count": 30,
   "id": "9101a30c-dd29-4c9f-a860-6c3fd6b21bc1",
   "metadata": {},
   "outputs": [
    {
     "name": "stdout",
     "output_type": "stream",
     "text": [
      "Ridge Regressor:\n",
      "Predicted Value(1st 10 values): \n",
      " [ 390.20489113 1472.81013889  561.02108394 1030.74512662  578.88435232\n",
      "   34.60801068  218.08618645  230.65733714  373.42684276  626.48040431]\n",
      "-----------------------------------------------------------------------------------\n",
      "ridge linear model intercept/bias (b) : -3352.4230358458803\n",
      "ridge linear model coeffecient/weight (w) : [ 1.95091438e-03  2.19322667e+01  9.56286607e+00 -3.59178973e+01\n",
      "  6.36465325e+00 -1.96885471e+01 -2.80715856e-03  1.66254486e+00\n",
      " -6.61426604e-03 -6.95450680e+00  1.71944731e+01 -5.62819154e+00\n",
      "  8.83525114e+00  6.79085746e-01 -7.33614221e+00  6.70389803e-03\n",
      "  9.78505502e-04  5.01202169e-03 -4.89870524e+00 -1.79270062e+01\n",
      "  9.17572382e+00 -1.24454193e+00  1.21845360e+00  1.03233089e+01\n",
      " -3.78037278e+00 -3.73428973e+00  4.74595305e+00  8.42696855e+00\n",
      "  3.09250005e+01  1.18644167e+01 -2.05183675e+00 -3.82210450e+01\n",
      "  1.85081589e+01  1.52510829e+00 -2.20086608e+01  2.46283912e+00\n",
      "  3.29328703e-01  4.02228467e+00 -1.12903533e+01 -4.69567413e-03\n",
      "  4.27046505e+01 -1.22507167e-03  1.40795790e+00  9.35041855e-01\n",
      " -3.00464253e+00  1.12390514e+00 -1.82487653e+01 -1.54653407e+01\n",
      "  2.41917002e+01 -1.32497562e+01 -4.20113118e-01 -3.59710660e+01\n",
      "  1.29786751e+01 -2.80765995e+01  4.38513476e+01  3.86590044e+01\n",
      " -6.46024046e+01 -1.63714023e+01  2.90397330e+01  4.15472907e+00\n",
      "  5.34033563e+01  1.98773191e-02 -5.47413979e-01  1.23883518e+01\n",
      "  1.03526583e+01 -1.57238894e+00  3.15887097e+00  8.77757987e+00\n",
      " -2.94724962e+01 -2.32474172e-04  3.13528914e-04 -4.14149639e-04\n",
      " -1.79329831e-04 -5.74054526e-01 -5.17742507e-01 -4.20670931e-01\n",
      "  1.53383594e-01  1.32725423e+00  3.84863158e+00  3.03024594e+00\n",
      " -3.77692644e+01  1.37933464e-01  3.07676522e-01  1.57128807e+01\n",
      "  3.31418306e-01  3.35994414e+00  1.61265911e-01 -2.67619878e+00]\n",
      "  note: two different coefficents for two different features\n",
      "R-Squared-Score of training data : 0.671\n",
      "R-Squared-Score of testing data : 0.494\n",
      "###################################\n",
      "Number of non-zero features: 88\n"
     ]
    }
   ],
   "source": [
    "from sklearn.linear_model import Ridge\n",
    "\n",
    "linridge = Ridge(alpha = 20.0).fit(X_train, y_train)\n",
    "y_predict_ridge = linridge.predict(X_test)\n",
    "print(\"Ridge Regressor:\")\n",
    "print(\"Predicted Value(1st 10 values):\", \"\\n\", y_predict_ridge[0:10])\n",
    "print(\"-----------------------------------------------------------------------------------\")\n",
    "\n",
    "print(\"ridge linear model intercept/bias (b) : {}\".format(linridge.intercept_))\n",
    "print(\"ridge linear model coeffecient/weight (w) : {}\".format(linridge.coef_))\n",
    "print(\"  note: two different coefficents for two different features\")\n",
    "print(\"R-Squared-Score of training data : {:.3f}\".format(linridge.score(X_train, y_train)))\n",
    "print(\"R-Squared-Score of testing data : {:.3f}\".format(linridge.score(X_test, y_test)))\n",
    "\n",
    "print(\"###################################\")\n",
    "print(\"Number of non-zero features: {}\".format(np.sum(linridge.coef_ != 0)))"
   ]
  },
  {
   "cell_type": "markdown",
   "id": "cb00f89f-8dca-4c48-a332-c8d67ac1afac",
   "metadata": {},
   "source": [
    "# Ridge Regression After Performing feature normalization\n",
    "<h4> Feature Scaling/Normalization </h4>\n",
    "\n",
    "1. A technique to normalize different values of different feature value within the range of (0 to 1)\n",
    "2. To get optimistic result\n",
    "3. Different type of Scaler (MinMaxScaler(), MaxAbsScaler(), StandardScaler(), RobustScaler()). Most commonly used : **`MinMaxScaler()`**\n",
    "4. fit and transform training dataset. whereas only transform fof testing dataset. We don't perform **fit** for testing dataset to avoid data leakage\n",
    "5. Use same scaler method for training and testing\n",
    "6. After perform scaling, it's hard to interpet the dataset"
   ]
  },
  {
   "cell_type": "code",
   "execution_count": 31,
   "id": "1b2b0545-baa7-4e27-8232-a81616e5fd45",
   "metadata": {},
   "outputs": [
    {
     "name": "stdout",
     "output_type": "stream",
     "text": [
      "Ridge linear model with feature scaling(MinMaxScaler():\n",
      "Predicted Value(1st 10 values):\n",
      " [ 445.9000438  1354.15068104  588.59050141 1065.02610611  747.18046081\n",
      "  124.40335313  238.06948883  164.70782636  459.12799996  536.21079091]\n",
      "-------------------------------------------------------------------------------------------------------------------------------------\n",
      "ridge linear model with feature scaling(MinMaxScaler()) intercept/bias (b) : 933.3906385044143\n",
      "ridge linear model with feature scaling(MinMaxScaler()) coeffecient/weight (w) : \n",
      " [  88.68827454   16.48947987  -50.30285445  -82.90507574  -65.89507244\n",
      "   -2.27674244   87.74108514  150.94862182   18.8802613   -31.05554992\n",
      "  -43.13536109 -189.44266328   -4.52658099  107.97866804  -76.53358414\n",
      "    2.86032762   34.95230077   90.13523036   52.46428263  -62.10898424\n",
      "  115.01780357    2.66942023    6.94331369   -5.66646499 -101.55269144\n",
      "  -36.9087526    -8.7053343    29.11999068  171.25963057   99.36919476\n",
      "   75.06611841  123.63522539   95.24316483 -330.61044265 -442.30179004\n",
      " -284.49744001 -258.37150609   17.66431072 -101.70717151  110.64762887\n",
      "  523.13611718   24.8208959     4.86533322  -30.46775619   -3.51753937\n",
      "   50.57947231   10.84840601   18.27680946   44.11189865   58.33588176\n",
      "   67.08698975  -57.93524659  116.1446052    53.81163718   49.01607711\n",
      "   -7.62262031   55.14288543  -52.08878272  123.39291017   77.12562171\n",
      "   45.49795317  184.91229771  -91.35721203    1.07975971  234.09267451\n",
      "   10.3887921    94.7171829   167.91856631  -25.14025088   -1.18242839\n",
      "   14.60362467   36.77122659   53.19878339  -78.86365997   -5.89858411\n",
      "   26.04790298  115.1534917    68.74143311   68.28588166   16.5260514\n",
      "  -97.90513652  205.20448474   75.97304123   61.3791085   -79.83157049\n",
      "   67.26700741   95.67094538  -11.88380569]\n",
      "  note: two different coefficents for two different features\n",
      "R-Squared-Score of training data : 0.615\n",
      "R-Squared-Score of testing data : 0.599\n",
      "###################################\n",
      "Number of non-zero features: 88\n"
     ]
    }
   ],
   "source": [
    "from sklearn.model_selection import train_test_split\n",
    "X_train, X_test, y_train, y_test = train_test_split(X_crime, y_crime, random_state = 0)\n",
    "\n",
    "from sklearn.preprocessing import MinMaxScaler\n",
    "\n",
    "scaler = MinMaxScaler()\n",
    "\n",
    "X_train_scaled = scaler.fit_transform(X_train)\n",
    "\n",
    "X_test_scaled = scaler.transform(X_test)\n",
    "\n",
    "from sklearn.linear_model import Ridge\n",
    "\n",
    "linScaledRidge = Ridge(alpha = 20.0).fit(X_train_scaled, y_train)\n",
    "\n",
    "y_predict_ridge = linScaledRidge.predict(X_test_scaled)\n",
    "print(\"Ridge linear model with feature scaling(MinMaxScaler():\")\n",
    "print(\"Predicted Value(1st 10 values):\\n {}\".format(y_predict_ridge[0:10]))\n",
    "print(\"-------------------------------------------------------------------------------------------------------------------------------------\")\n",
    "\n",
    "print(\"ridge linear model with feature scaling(MinMaxScaler()) intercept/bias (b) : {}\".format(linScaledRidge.intercept_))\n",
    "print(\"ridge linear model with feature scaling(MinMaxScaler()) coeffecient/weight (w) : \\n {}\".format(linScaledRidge.coef_))\n",
    "print(\"  note: two different coefficents for two different features\")\n",
    "print(\"R-Squared-Score of training data : {:.3f}\".format(linScaledRidge.score(X_train_scaled, y_train)))\n",
    "print(\"R-Squared-Score of testing data : {:.3f}\".format(linScaledRidge.score(X_test_scaled, y_test)))\n",
    "\n",
    "print(\"###################################\")\n",
    "print(\"Number of non-zero features: {}\".format(np.sum(linScaledRidge.coef_ != 0)))"
   ]
  },
  {
   "cell_type": "markdown",
   "id": "ded92260-6c25-430d-a561-c44ea983a5c1",
   "metadata": {},
   "source": [
    "# Ridge with varying alpha"
   ]
  },
  {
   "cell_type": "code",
   "execution_count": 32,
   "id": "c8ed7989-f224-4af2-bc60-0ef2e1d25f84",
   "metadata": {},
   "outputs": [
    {
     "name": "stdout",
     "output_type": "stream",
     "text": [
      "Effect of varying Alpha Regulization parameter\n",
      "Alpha = 0.00 \n",
      "    num abs(coeff) > 1.0 : 88,     r-squared training: 0.67, r-squared test: 0.50 \n",
      "\n",
      "Alpha = 1.00 \n",
      "    num abs(coeff) > 1.0 : 87,     r-squared training: 0.66, r-squared test: 0.56 \n",
      "\n",
      "Alpha = 10.00 \n",
      "    num abs(coeff) > 1.0 : 87,     r-squared training: 0.63, r-squared test: 0.59 \n",
      "\n",
      "Alpha = 20.00 \n",
      "    num abs(coeff) > 1.0 : 88,     r-squared training: 0.61, r-squared test: 0.60 \n",
      "\n",
      "Alpha = 50.00 \n",
      "    num abs(coeff) > 1.0 : 86,     r-squared training: 0.58, r-squared test: 0.58 \n",
      "\n",
      "Alpha = 100.00 \n",
      "    num abs(coeff) > 1.0 : 87,     r-squared training: 0.55, r-squared test: 0.55 \n",
      "\n",
      "Alpha = 1000.00 \n",
      "    num abs(coeff) > 1.0 : 84,     r-squared training: 0.31, r-squared test: 0.30 \n",
      "\n"
     ]
    }
   ],
   "source": [
    "print(\"Effect of varying Alpha Regulization parameter\")\n",
    "for alpha in [0, 1, 10, 20, 50, 100, 1000]:\n",
    "    linRidge = Ridge( alpha = alpha).fit(X_train_scaled, y_train)\n",
    "    r2_train_score = linRidge.score(X_train_scaled, y_train)\n",
    "    r2_test_score = linRidge.score(X_test_scaled, y_test)\n",
    "    num_coeff_bigger = np.sum(abs(linRidge.coef_) > 1.0)\n",
    "    print(\"Alpha = {:.2f} \\n\\\n",
    "    num abs(coeff) > 1.0 : {}, \\\n",
    "    r-squared training: {:.2f}, r-squared test: {:.2f} \\n\"\n",
    "          .format(alpha, num_coeff_bigger, r2_train_score, r2_test_score))\n"
   ]
  },
  {
   "cell_type": "markdown",
   "id": "eb443431-66fe-4989-b047-043c7bfeb684",
   "metadata": {},
   "source": [
    "# Lasso Regression "
   ]
  },
  {
   "cell_type": "code",
   "execution_count": 33,
   "id": "73eaaa81-fe4a-4464-8741-8119f1d833b9",
   "metadata": {},
   "outputs": [
    {
     "name": "stdout",
     "output_type": "stream",
     "text": [
      "Crime Dataset\n",
      "lasso regression linear_model_intercept: 1186.6120619985784\n",
      "lasso regression linear_model_coefficient: \n",
      " [    0.             0.            -0.          -168.18346054\n",
      "    -0.            -0.             0.           119.6938194\n",
      "     0.            -0.             0.          -169.67564456\n",
      "    -0.             0.            -0.             0.\n",
      "     0.             0.            -0.            -0.\n",
      "     0.            -0.             0.             0.\n",
      "   -57.52991966    -0.            -0.             0.\n",
      "   259.32889226    -0.             0.             0.\n",
      "     0.            -0.         -1188.7396867     -0.\n",
      "    -0.            -0.          -231.42347299     0.\n",
      "  1488.36512229     0.            -0.            -0.\n",
      "    -0.             0.             0.             0.\n",
      "     0.             0.            -0.             0.\n",
      "    20.14419415     0.             0.             0.\n",
      "     0.             0.           339.04468804     0.\n",
      "     0.           459.53799903    -0.             0.\n",
      "   122.69221826    -0.            91.41202242     0.\n",
      "    -0.             0.             0.            73.14365856\n",
      "     0.            -0.             0.             0.\n",
      "    86.35600042     0.             0.             0.\n",
      "  -104.57143405   264.93206555     0.            23.4488645\n",
      "   -49.39355188     0.             5.19775369     0.        ]\n",
      "Non zero features: 20\n",
      "R2_scored_train: 0.630701366870586\n",
      "R2_scored_test: 0.6237725857015401\n",
      "feature with non-zero weight sorted by abs magnitude:\n",
      "\tPctKidsBornNeverMar, 1488.365122\n",
      "\tPctKids2Par, -1188.739687\n",
      "\tHousVacant, 459.537999\n",
      "\tPctPersDenseHous, 339.044688\n",
      "\tNumInShelters, 264.932066\n",
      "\tMalePctDivorce, 259.328892\n",
      "\tPctWorkMom, -231.423473\n",
      "\tpctWInvInc, -169.675645\n",
      "\tagePct12t29, -168.183461\n",
      "\tPctVacantBoarded, 122.692218\n",
      "\tpctUrban, 119.693819\n",
      "\tMedOwnCostPctIncNoMtg, -104.571434\n",
      "\tMedYrHousBuilt, 91.412022\n",
      "\tRentQrange, 86.356000\n",
      "\tOwnOccHiQuart, 73.143659\n",
      "\tPctEmplManu, -57.529920\n",
      "\tPctBornSameState, -49.393552\n",
      "\tPctForeignBorn, 23.448864\n",
      "\tPctLargHouseFam, 20.144194\n",
      "\tPctSameCity85, 5.197754\n"
     ]
    }
   ],
   "source": [
    "from sklearn.linear_model import Lasso\n",
    "from sklearn.preprocessing import MinMaxScaler\n",
    "\n",
    "scaler = MinMaxScaler()\n",
    "\n",
    "X_train, X_test, y_train, y_test = train_test_split(X_crime, y_crime, random_state = 0) #by default train/test 75/25\n",
    "\n",
    "X_train_scaled = scaler.fit_transform(X_train)\n",
    "X_test_scaled =scaler.transform(X_test)\n",
    "\n",
    "linLasso = Lasso(alpha = 2.0, max_iter = 1000).fit(X_train_scaled, y_train)\n",
    "\n",
    "print(\"Crime Dataset\")\n",
    "print('lasso regression linear_model_intercept: {}'.format(linLasso.intercept_))\n",
    "print('lasso regression linear_model_coefficient: \\n {}'.format(linLasso.coef_))\n",
    "print('Non zero features: {}'.format(np.sum(linLasso.coef_ != 0)))\n",
    "print('R2_scored_train: {}'.format(linLasso.score(X_train_scaled, y_train)))\n",
    "print('R2_scored_test: {}'.format(linLasso.score(X_test_scaled, y_test)))\n",
    "\n",
    "print('feature with non-zero weight sorted by abs magnitude:')\n",
    "\n",
    "for e in sorted (list(zip(list(X_crime), linLasso.coef_)), key = lambda e: -abs(e[1])):\n",
    "    if e[1] != 0:\n",
    "        print('\\t{}, {:3f}'.format(e[0], e[1]))\n"
   ]
  },
  {
   "cell_type": "markdown",
   "id": "f2c92899-7ec0-473c-b7bb-d7a7ef6d57fe",
   "metadata": {},
   "source": [
    "# Polynominal Regression"
   ]
  },
  {
   "cell_type": "markdown",
   "id": "e3ab9acb-9f8e-49c2-aaca-adf8395fc897",
   "metadata": {},
   "source": [
    "<h2>import dataset</h2>"
   ]
  },
  {
   "cell_type": "code",
   "execution_count": 56,
   "id": "bae817cf-231e-4e14-9c3c-68523baf6c41",
   "metadata": {},
   "outputs": [
    {
     "name": "stdout",
     "output_type": "stream",
     "text": [
      "X_F1 data details: \n",
      " [[0.5488135  0.71518937 0.60276338 0.54488318 0.4236548  0.64589411\n",
      "  0.43758721]\n",
      " [0.891773   0.96366276 0.38344152 0.79172504 0.52889492 0.56804456\n",
      "  0.92559664]\n",
      " [0.07103606 0.0871293  0.0202184  0.83261985 0.77815675 0.87001215\n",
      "  0.97861834]]\n",
      "X_F1 shape: (100, 7)\n",
      "y_F1 data details: \n",
      " [17.2134918  15.10918004 17.01522097 15.11873009 17.41823211 22.39511633\n",
      "  9.63063021 16.53335167  8.22803372  9.89245745 24.20228984  9.27443963\n",
      "  8.38020792  7.47437591  7.13070042 15.87877067 16.42052944 22.78057004\n",
      "  6.68579564 14.26511075]\n",
      "y_F1 shape: (100,)\n"
     ]
    }
   ],
   "source": [
    "from sklearn.datasets import make_friedman1\n",
    "\n",
    "X_F1, y_F1 = make_friedman1(n_samples = 100, n_features = 7, random_state = 0)\n",
    "\n",
    "print(\"X_F1 data details:\", \"\\n\", X_F1[0:3])\n",
    "print(\"X_F1 shape:\", X_F1.shape)\n",
    "print(\"y_F1 data details:\", \"\\n\", y_F1[0:20])\n",
    "print(\"y_F1 shape:\", y_F1.shape)\n"
   ]
  },
  {
   "cell_type": "code",
   "execution_count": 84,
   "id": "8f2f3d61-e5c6-42af-89ac-2d1daa9c3eda",
   "metadata": {},
   "outputs": [
    {
     "name": "stdout",
     "output_type": "stream",
     "text": [
      "====================================================================================================\n",
      "Linear Regression:\n",
      "Linear Model Coef (w): \n",
      " [ 4.42036739  5.99661447  0.52894712 10.23751345  6.5507973  -2.02082636\n",
      " -0.32378811]\n",
      "Linear Model Intercept (b): 1.5425091975373135\n",
      "R-squared score (training): 0.722\n",
      "R-squared score (testing): 0.722\n",
      "\n",
      "Now we transform original dataset by adding polynominal function with degree 2 (Quadratic)\n",
      "\n",
      "====================================================================================================\n",
      "Linear Regression With Ploynomial Function:\n",
      "Shape of Original Features (100, 7)\n",
      "Shape of transfom Features(with polynomial Function) (100, 36)\n",
      "Original Features: \n",
      " [[0.5488135  0.71518937 0.60276338 0.54488318 0.4236548  0.64589411\n",
      "  0.43758721]\n",
      " [0.891773   0.96366276 0.38344152 0.79172504 0.52889492 0.56804456\n",
      "  0.92559664]\n",
      " [0.07103606 0.0871293  0.0202184  0.83261985 0.77815675 0.87001215\n",
      "  0.97861834]]\n",
      "Transform Feature after adding Polynomial Function: \n",
      " [[1.00000000e+00 5.48813504e-01 7.15189366e-01 6.02763376e-01\n",
      "  5.44883183e-01 4.23654799e-01 6.45894113e-01 4.37587211e-01\n",
      "  3.01196262e-01 3.92505582e-01 3.30804680e-01 2.99039249e-01\n",
      "  2.32507475e-01 3.54475411e-01 2.40153771e-01 5.11495830e-01\n",
      "  4.31089957e-01 3.89694658e-01 3.02993407e-01 4.61936601e-01\n",
      "  3.12957720e-01 3.63323688e-01 3.28435627e-01 2.55363597e-01\n",
      "  3.89321316e-01 2.63761545e-01 2.96897683e-01 2.30842376e-01\n",
      "  3.51936840e-01 2.38433913e-01 1.79483389e-01 2.73636141e-01\n",
      "  1.85385922e-01 4.17179205e-01 2.82635004e-01 1.91482567e-01]\n",
      " [1.00000000e+00 8.91773001e-01 9.63662761e-01 3.83441519e-01\n",
      "  7.91725038e-01 5.28894920e-01 5.68044561e-01 9.25596638e-01\n",
      "  7.95259085e-01 8.59368432e-01 3.41942794e-01 7.06039013e-01\n",
      "  4.71654210e-01 5.06566803e-01 8.25422092e-01 9.28645916e-01\n",
      "  3.69508313e-01 7.62955936e-01 5.09676338e-01 5.47403390e-01\n",
      "  8.91963012e-01 1.47027398e-01 3.03580251e-01 2.02800271e-01\n",
      "  2.17811869e-01 3.54912181e-01 6.26828536e-01 4.18739350e-01\n",
      "  4.49735102e-01 7.32818034e-01 2.79729836e-01 3.00435883e-01\n",
      "  4.89543360e-01 3.22674623e-01 5.25780136e-01 8.56729137e-01]\n",
      " [1.00000000e+00 7.10360582e-02 8.71292997e-02 2.02183974e-02\n",
      "  8.32619846e-01 7.78156751e-01 8.70012148e-01 9.78618342e-01\n",
      "  5.04612156e-03 6.18932200e-03 1.43623526e-03 5.91460318e-02\n",
      "  5.52771882e-02 6.18022336e-02 6.95171895e-02 7.59151487e-03\n",
      "  1.76161481e-03 7.25455841e-02 6.78002528e-02 7.58035492e-02\n",
      "  8.52663308e-02 4.08783595e-04 1.68342390e-02 1.57330825e-02\n",
      "  1.75902514e-02 1.97860946e-02 6.93255807e-01 6.47908754e-01\n",
      "  7.24389380e-01 8.14817053e-01 6.05527929e-01 6.77005827e-01\n",
      "  7.61518470e-01 7.56921138e-01 8.51409846e-01 9.57693860e-01]]\n",
      "Linear Model Coef with Polynomial Function[degree-2: Quadratic] (w): \n",
      " [ 3.40951018e-12  1.66452443e+01  2.67285381e+01 -2.21348316e+01\n",
      "  1.24359227e+01  6.93086826e+00  1.04772675e+00  3.71352773e+00\n",
      " -1.33785505e+01 -5.73177185e+00  1.61813184e+00  3.66399592e+00\n",
      "  5.04513181e+00 -1.45835979e+00  1.95156872e+00 -1.51297378e+01\n",
      "  4.86762224e+00 -2.97084269e+00 -7.78370522e+00  5.14696078e+00\n",
      " -4.65479361e+00  1.84147395e+01 -2.22040650e+00  2.16572630e+00\n",
      " -1.27989481e+00  1.87946559e+00  1.52962716e-01  5.62073813e-01\n",
      " -8.91697516e-01 -2.18481128e+00  1.37595426e+00 -4.90336041e+00\n",
      " -2.23535458e+00  1.38268439e+00 -5.51908208e-01 -1.08795007e+00]\n",
      "Linear Model Intercept with Polynomial Function[degree-2: Quadratic] (b): -3.205674398929192\n",
      "R-squared score with Polynomial Function[degree-2: Quadratic] (training): 0.969\n",
      "R-squared score with Polynomial Function[degree-2: Quadratic] (testing): 0.805\n",
      "Adding Polynomial Funcation / non-linearity increases model complexity hence overfitting. We can use Ridge Regressor with L-2 Regularization to avoid such impcat.\n",
      "====================================================================================================\n",
      "Linear Regression With Ploynomial Function and Ridge Regularization:\n",
      "Linear Model Coef with Polynomial Function[degree-2: Quadratic] (w): \n",
      " [ 0.          2.229281    4.73349734 -3.15432089  3.8585194   1.60970912\n",
      " -0.76967054 -0.14956002 -1.75215371  1.5970487   1.37080607  2.51598244\n",
      "  2.71746523  0.48531538 -1.9356048  -1.62914955  1.51474518  0.88674141\n",
      "  0.26141199  2.04931775 -1.93025705  3.61850966 -0.71788143  0.63173956\n",
      " -3.16429847  1.29161448  3.545085    1.73422041  0.94347654 -0.51207219\n",
      "  1.70114448 -1.97949067  1.80687548 -0.2173863   2.87585898 -0.89423157]\n",
      "Linear Model Intercept with Polynomial Function[degree-2: Quadratic] (b): 5.4180930492552\n",
      "R-squared score with Polynomial Function[degree-2: Quadratic] (training): 0.826\n",
      "R-squared score with Polynomial Function[degree-2: Quadratic] (testing): 0.825\n"
     ]
    }
   ],
   "source": [
    "from sklearn.linear_model import LinearRegression\n",
    "from sklearn.linear_model import Ridge\n",
    "from sklearn.preprocessing import PolynomialFeatures\n",
    "\n",
    "X_train, X_test, y_train, y_test = train_test_split(X_F1, y_F1, random_state = 0) #bydefault train/test 75/25\n",
    "\n",
    "#Linear Regression\n",
    "\n",
    "linReg = LinearRegression().fit(X_train, y_train)\n",
    "print(\"====================================================================================================\")\n",
    "print(\"Linear Regression:\")\n",
    "print(\"Linear Model Coef (w): \\n {}\".format(linReg.coef_))\n",
    "print(\"Linear Model Intercept (b): {}\".format(linReg.intercept_))\n",
    "print(\"R-squared score (training): {:.3f}\".format(linReg.score(X_train, y_train)))\n",
    "print(\"R-squared score (testing): {:.3f}\".format(linReg.score(X_test, y_test)))\n",
    "\n",
    "print(\"\\nNow we transform original dataset by adding polynominal function with degree 2 (Quadratic)\\n\")\n",
    "      \n",
    "poly = PolynomialFeatures(degree = 2)\n",
    "\n",
    "X_F1_poly = poly.fit_transform(X_F1)\n",
    "\n",
    "print(\"====================================================================================================\")\n",
    "print(\"Linear Regression With Ploynomial Function:\")\n",
    "print(\"Shape of Original Features\", X_F1.shape)\n",
    "print(\"Shape of transfom Features(with polynomial Function)\", X_F1_poly.shape)\n",
    "print(\"Original Features:\", \"\\n\", X_F1[0:3])\n",
    "\n",
    "print(\"Transform Feature after adding Polynomial Function:\", \"\\n\", X_F1_poly[0:3])\n",
    "\n",
    "\n",
    "X_train, X_test, y_train, y_test = train_test_split(X_F1_poly, y_F1, random_state = 0)\n",
    "\n",
    "linReg_poly = LinearRegression().fit(X_train, y_train)\n",
    "\n",
    "print(\"Linear Model Coef with Polynomial Function[degree-2: Quadratic] (w): \\n {}\".format(linReg_poly.coef_))\n",
    "print(\"Linear Model Intercept with Polynomial Function[degree-2: Quadratic] (b): {}\".format(linReg_poly.intercept_))\n",
    "print(\"R-squared score with Polynomial Function[degree-2: Quadratic] (training): {:.3f}\".format(linReg_poly.score(X_train, y_train)))\n",
    "print(\"R-squared score with Polynomial Function[degree-2: Quadratic] (testing): {:.3f}\".format(linReg_poly.score(X_test, y_test)))\n",
    "\n",
    "print(\"Adding Polynomial Funcation / non-linearity increases model complexity hence overfitting. We can use Ridge Regressor with L-2 Regularization to avoid such impcat.\"\n",
    "     )\n",
    "print(\"====================================================================================================\")\n",
    "print(\"Linear Regression With Ploynomial Function and Ridge Regularization:\")\n",
    "\n",
    "linReg_poly_ridge = Ridge(alpha =1.0).fit(X_train, y_train) #bydefault alpha = 1.0\n",
    "\n",
    "print(\"Linear Model Coef with Polynomial Function[degree-2: Quadratic] (w): \\n {}\".format(linReg_poly_ridge.coef_))\n",
    "print(\"Linear Model Intercept with Polynomial Function[degree-2: Quadratic] (b): {}\".format(linReg_poly_ridge.intercept_))\n",
    "print(\"R-squared score with Polynomial Function[degree-2: Quadratic] (training): {:.3f}\".format(linReg_poly_ridge.score(X_train, y_train)))\n",
    "print(\"R-squared score with Polynomial Function[degree-2: Quadratic] (testing): {:.3f}\".format(linReg_poly_ridge.score(X_test, y_test)))\n",
    "      "
   ]
  }
 ],
 "metadata": {
  "kernelspec": {
   "display_name": "Python 3 (ipykernel)",
   "language": "python",
   "name": "python3"
  },
  "language_info": {
   "codemirror_mode": {
    "name": "ipython",
    "version": 3
   },
   "file_extension": ".py",
   "mimetype": "text/x-python",
   "name": "python",
   "nbconvert_exporter": "python",
   "pygments_lexer": "ipython3",
   "version": "3.8.10"
  }
 },
 "nbformat": 4,
 "nbformat_minor": 5
}
